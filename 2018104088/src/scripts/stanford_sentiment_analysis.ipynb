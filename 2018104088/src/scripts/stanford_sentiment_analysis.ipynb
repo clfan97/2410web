{
 "cells": [
  {
   "cell_type": "code",
   "execution_count": 1,
   "metadata": {
    "collapsed": true
   },
   "outputs": [],
   "source": [
    "import warnings\n",
    "warnings.filterwarnings(\"ignore\")\n",
    "\n",
    "import numpy as np\n",
    "import pandas as pd\n",
    "import matplotlib.pyplot as plt\n",
    "import os\n",
    "import tensorflow as tf\n",
    "from collections import Counter\n",
    "import tqdm\n",
    "\n",
    "import os\n",
    "os.environ[\"CUDA_DEVICE_ORDER\"] = \"PCI_BUS_ID\"\n",
    "os.environ[\"CUDA_VISIBLE_DEVICES\"] = \"1\"\n",
    "\n",
    "%matplotlib inline"
   ]
  },
  {
   "cell_type": "markdown",
   "metadata": {},
   "source": [
    "# 数据处理"
   ]
  },
  {
   "cell_type": "markdown",
   "metadata": {},
   "source": [
    "## 数据加载\n",
    "\t1 = train\n",
    "\t2 = test\n",
    "\t3 = dev\n"
   ]
  },
  {
   "cell_type": "code",
   "execution_count": 3,
   "metadata": {
    "collapsed": true
   },
   "outputs": [
    {
     "name": "stdout",
     "output_type": "stream",
     "text": [
      "11855 239232 11855\n",
      "0    3\n",
      "1    4\n",
      "2    2\n",
      "3    3\n",
      "4    4\n",
      "dtype: int64\n"
     ]
    }
   ],
   "source": [
    "# 加载所有句子\n",
    "def delete_non_ascii_num(txt):\n",
    "#     return txt.replace(\"-LRB-\",\"(\").replace(\"-RRB-\",\")\")\n",
    "    return ''.join([i if (ord(i) < 128) or (i == '?' or i == '!') else '' for i in txt]).replace(\"-LRB-\",\"(\").replace(\"-RRB-\",\")\")\n",
    "\n",
    "sentences  = pd.read_csv(\"data/stanfordSentimentTreebank/datasetSentences.txt\",sep='\t')['sentence']\n",
    "sentiments = pd.read_csv(\"data/stanfordSentimentTreebank/sentiment_labels.txt\",sep='|')['sentiment values']\n",
    "splits     = pd.read_csv(\"data/stanfordSentimentTreebank/datasetSplit.txt\",sep=',')['splitset_label']\n",
    "dictionary = pd.read_csv(\"data/stanfordSentimentTreebank/sentiment_labels.txt\",sep='|')['sentiment values']\n",
    "\n",
    "sentences = sentences.apply(delete_non_ascii_num)\n",
    "# print(sentences[:5], sentiments[:])\n",
    "\n",
    "\n",
    "sentiments_level = np.zeros(sentiments.shape).astype(int)\n",
    "sentiments_level[sentiments <= 0.2] = 0\n",
    "sentiments_level[(sentiments > 0.2) & (sentiments <= 0.4)] = 1\n",
    "sentiments_level[(sentiments > 0.4) & (sentiments <= 0.6)] = 2\n",
    "sentiments_level[(sentiments > 0.6) & (sentiments <= 0.8)] = 3\n",
    "sentiments_level[(sentiments > 0.8) & (sentiments <= 1.0)] = 4\n",
    "\n",
    "print(len(sentences),len(sentiments_level), len(splits))\n",
    "train_sentences, val_sentences, test_sentences = sentences[splits == 1],  sentences[splits == 3],  sentences[splits == 2]\n",
    "# train_targets,   val_targets,   test_targets   = sentiments[splits == 1], sentiments[splits == 3], sentiments[splits == 2]\n",
    "sentiments_dic = { str(x): sentiments_level[x] for x in range(0, len(sentiments_level)) }\n",
    "\n",
    "txtPath = 'data/stanfordSentimentTreebank/dictionary.txt'\n",
    "diction = {}\n",
    "\n",
    " \n",
    "with open(txtPath,'r', encoding='utf8') as fp:\n",
    "    for i in fp.readlines():\n",
    "        u = i.replace(\"\\n\",\"\").split(\"|\")\n",
    "        key = delete_non_ascii_num(u[0])\n",
    "        diction[key] = sentiments_dic[u[1]]\n",
    "\n",
    "sentence_sents = []\n",
    "for sen in sentences:\n",
    "    sentence_sents.append(diction[sen])\n",
    "\n",
    "sentiments = pd.Series(sentence_sents)\n",
    "print(sentiments[:5])"
   ]
  },
  {
   "cell_type": "markdown",
   "metadata": {},
   "source": [
    "## 描述性统计"
   ]
  },
  {
   "cell_type": "markdown",
   "metadata": {},
   "source": [
    "## 数据预处理\n",
    "\n",
    "- 构造词典Vocabulary\n",
    "- 构造映射表\n",
    "- 转换单词为tokens"
   ]
  },
  {
   "cell_type": "code",
   "execution_count": 4,
   "metadata": {
    "collapsed": true
   },
   "outputs": [
    {
     "name": "stdout",
     "output_type": "stream",
     "text": [
      "36\n"
     ]
    }
   ],
   "source": [
    "# 句子最大长度\n",
    "SENTENCE_LIMIT_SIZE = 18\n",
    "print(len(train_sentences[0].split()))"
   ]
  },
  {
   "cell_type": "code",
   "execution_count": 5,
   "metadata": {},
   "outputs": [
    {
     "name": "stdout",
     "output_type": "stream",
     "text": [
      "count    8544.000000\n",
      "mean       19.143610\n",
      "std         9.305767\n",
      "min         2.000000\n",
      "25%        12.000000\n",
      "50%        18.000000\n",
      "75%        25.000000\n",
      "max        52.000000\n",
      "dtype: float64\n",
      "[(15, 353), (19, 351), (18, 342), (16, 334), (14, 334), (17, 327), (20, 325), (13, 319), (22, 317), (21, 312), (12, 308), (11, 305), (10, 298), (23, 296), (24, 290), (9, 265), (25, 259), (26, 238), (6, 231), (8, 228), (28, 226), (27, 223), (7, 218), (29, 171), (31, 158), (30, 157), (5, 154), (4, 152), (32, 151), (33, 124), (34, 123), (35, 99), (3, 96), (36, 69), (38, 61), (37, 54), (41, 40), (2, 40), (39, 38), (40, 31), (42, 24), (43, 24), (44, 20), (45, 18), (46, 11), (48, 8), (49, 8), (51, 4), (50, 4), (52, 3), (47, 3)]\n"
     ]
    }
   ],
   "source": [
    "lens = pd.Series([len(x.split()) for x in train_sentences])\n",
    "print(lens.describe())\n",
    "print(Counter(lens).most_common())"
   ]
  },
  {
   "cell_type": "markdown",
   "metadata": {},
   "source": [
    "### 构造词典\n",
    "\n",
    "我们要基于整个语料来构造我们的词典，由于文本中包含许多干扰词汇，例如仅出现过1次的这类单词。对于这类极其低频词汇，我们可以对其进行去除，一方面能加快模型执行效率，一方面也能减少特殊词带来的噪声。"
   ]
  },
  {
   "cell_type": "code",
   "execution_count": 6,
   "metadata": {},
   "outputs": [
    {
     "name": "stdout",
     "output_type": "stream",
     "text": [
      "!\"#$%&'()*+,-./:;<=>?@[\\]^_`{|}~\n",
      "\"#$%&'()*+,-./:;<=>?@[\\]^_`{|}~\n"
     ]
    }
   ],
   "source": [
    "from sklearn.feature_extraction.stop_words import ENGLISH_STOP_WORDS as stopwords\n",
    "from multiprocessing import Pool\n",
    "import spacy, string\n",
    "nlp = spacy.load('en')\n",
    "# 标点符号\n",
    "punctuations = string.punctuation\n",
    "print(punctuations)\n",
    "print(punctuations[1:])\n",
    "punctuations = punctuations[1:]\n",
    "# 保留！\n",
    "\n",
    "def clean_core(doc):\n",
    "    doc = nlp(doc, disable=['parser', 'ner'])\n",
    "    tokens = [tok.lemma_.lower().strip() for tok in doc if tok.lemma_ != '-PRON-']\n",
    "    tokens = [tok for tok in tokens if tok not in stopwords and (tok not in punctuations)]\n",
    "    tokens = ' '.join(tokens)\n",
    "    tokens = delete_non_ascii_num(tokens)\n",
    "    return tokens\n",
    "\n",
    "def cleanup_text(docs, logging=False):\n",
    "    # 去除停用词\n",
    "    multiprocess_pool = Pool(64)\n",
    "    texts = multiprocess_pool.map(clean_core, docs)\n",
    "    return texts"
   ]
  },
  {
   "cell_type": "code",
   "execution_count": 8,
   "metadata": {
    "collapsed": true
   },
   "outputs": [],
   "source": [
    "clean_sent = cleanup_text(sentences)\n",
    "# clean_sent = sentences\n",
    "\n",
    "total_text = '\\n'.join(clean_sent)\n",
    "# 统计词汇\n",
    "c = Counter(total_text.split())"
   ]
  },
  {
   "cell_type": "code",
   "execution_count": 9,
   "metadata": {
    "collapsed": true
   },
   "outputs": [
    {
     "name": "stdout",
     "output_type": "stream",
     "text": [
      "The total size of our vocabulary is: 8345\n"
     ]
    }
   ],
   "source": [
    "# 初始化两个token：pad和unk\n",
    "vocab = [\"<pad>\", \"<unk>\"]\n",
    "\n",
    "# 去除出现频次过低的单词\n",
    "for w, f in c.most_common():\n",
    "    if f > 1:\n",
    "        vocab.append(w)\n",
    "print(\"The total size of our vocabulary is: {}\".format(len(vocab)))"
   ]
  },
  {
   "cell_type": "markdown",
   "metadata": {},
   "source": [
    "### 构造映射"
   ]
  },
  {
   "cell_type": "code",
   "execution_count": 10,
   "metadata": {
    "collapsed": true
   },
   "outputs": [],
   "source": [
    "# 单词到编码的映射，例如machine -> 10283\n",
    "word_to_token = {word: token for token, word in enumerate(vocab)}\n",
    "# 编码到单词的映射，例如10283 -> machine\n",
    "token_to_word = {token: word for word, token in word_to_token.items()}"
   ]
  },
  {
   "cell_type": "markdown",
   "metadata": {},
   "source": [
    "### 转换文本"
   ]
  },
  {
   "cell_type": "code",
   "execution_count": 11,
   "metadata": {
    "collapsed": true
   },
   "outputs": [],
   "source": [
    "def convert_text_to_token(sentence, word_to_token_map=word_to_token, limit_size=SENTENCE_LIMIT_SIZE):\n",
    "    \"\"\"\n",
    "    根据单词-编码映射表将单个句子转化为token\n",
    "    \n",
    "    @param sentence: 句子，str类型\n",
    "    @param word_to_token_map: 单词到编码的映射\n",
    "    @param limit_size: 句子最大长度。超过该长度的句子进行截断，不足的句子进行pad补全\n",
    "    \n",
    "    return: 句子转换为token后的列表\n",
    "    \"\"\"\n",
    "    # 获取unknown单词和pad的token\n",
    "    unk_id = word_to_token_map[\"<unk>\"]\n",
    "    pad_id = word_to_token_map[\"<pad>\"]\n",
    "    \n",
    "    # 对句子进行token转换，对于未在词典中出现过的词用unk的token填充\n",
    "    tokens = [word_to_token_map.get(word, unk_id) for word in sentence.split()]\n",
    "    tokens_size = len(tokens)\n",
    "    # Pad\n",
    "    if len(tokens) < limit_size:\n",
    "        tokens.extend([0] * (limit_size - len(tokens)))\n",
    "    # Trunc\n",
    "    else:\n",
    "        tokens = tokens[:limit_size]\n",
    "    \n",
    "    return tokens,tokens_size"
   ]
  },
  {
   "cell_type": "code",
   "execution_count": 12,
   "metadata": {},
   "outputs": [
    {
     "name": "stderr",
     "output_type": "stream",
     "text": [
      "100%|██████████| 11855/11855 [00:00<00:00, 218855.24it/s]"
     ]
    },
    {
     "name": "stdout",
     "output_type": "stream",
     "text": [
      "converting to token...\n"
     ]
    },
    {
     "name": "stderr",
     "output_type": "stream",
     "text": [
      "\n"
     ]
    }
   ],
   "source": [
    "\n",
    "# 文本处理->token\n",
    "tokens = []\n",
    "total_lens = []\n",
    "\n",
    "print('converting to token...')\n",
    "for sentence in tqdm.tqdm(clean_sent):\n",
    "    tks,tklen = convert_text_to_token(sentence)\n",
    "    tokens.append(tks)\n",
    "    total_lens.append(tklen)\n",
    "\n",
    "total_lens = np.array(total_lens)\n",
    "total_lens[total_lens > SENTENCE_LIMIT_SIZE] = SENTENCE_LIMIT_SIZE"
   ]
  },
  {
   "cell_type": "code",
   "execution_count": 13,
   "metadata": {
    "collapsed": true
   },
   "outputs": [],
   "source": [
    "# 转化为numpy格式，方便处理\n",
    "total_tokens = np.array(tokens)"
   ]
  },
  {
   "cell_type": "markdown",
   "metadata": {},
   "source": [
    "## 构造词向量\n",
    "\n",
    "我们使用glove预训练好的词向量来做embedding:\n",
    "\n",
    "- 如果当前词没有对应词向量，则用随机数产生的向量替代\n",
    "- 如果当前词为< PAD >，则用0向量代替"
   ]
  },
  {
   "cell_type": "markdown",
   "metadata": {},
   "source": [
    "### 加载glove预训练词向量"
   ]
  },
  {
   "cell_type": "code",
   "execution_count": 14,
   "metadata": {
    "collapsed": true
   },
   "outputs": [
    {
     "name": "stdout",
     "output_type": "stream",
     "text": [
      "The number of words which have pretrained-vectors in vocab is: 8244\n",
      "\n",
      "The number of words which do not have pretrained-vectors in vocab is : 101\n"
     ]
    }
   ],
   "source": [
    "# 加载预训练好的glove词向量\n",
    "with open(\"data/glove.6B.300d.txt\", 'r') as f:\n",
    "    words = set()\n",
    "    word_to_vec = {}\n",
    "    for line in f:\n",
    "        line = line.strip().split()\n",
    "        # 当前单词\n",
    "        curr_word = line[0]\n",
    "        words.add(curr_word)\n",
    "        # 当前词向量\n",
    "        word_to_vec[curr_word] = np.array(line[1:], dtype=np.float32)\n",
    "print(\"The number of words which have pretrained-vectors in vocab is: {}\".format(len(set(vocab)&set(words))))\n",
    "print()\n",
    "print(\"The number of words which do not have pretrained-vectors in vocab is : {}\".format(len(set(vocab))-\n",
    "                                                                                         len(set(vocab)&set(words))))"
   ]
  },
  {
   "cell_type": "code",
   "execution_count": 21,
   "metadata": {},
   "outputs": [
    {
     "data": {
      "text/plain": [
       "set()"
      ]
     },
     "execution_count": 21,
     "metadata": {},
     "output_type": "execute_result"
    }
   ],
   "source": [
    "set(vocab) - set(vocab)&set(words)"
   ]
  },
  {
   "cell_type": "code",
   "execution_count": 23,
   "metadata": {},
   "outputs": [
    {
     "data": {
      "text/plain": [
       "set()"
      ]
     },
     "execution_count": 23,
     "metadata": {},
     "output_type": "execute_result"
    }
   ],
   "source": [
    "# set([1, 2, 3]) - set([1, 2, 3])"
   ]
  },
  {
   "cell_type": "markdown",
   "metadata": {},
   "source": [
    "### 构造词向量矩阵"
   ]
  },
  {
   "cell_type": "code",
   "execution_count": 24,
   "metadata": {},
   "outputs": [
    {
     "name": "stderr",
     "output_type": "stream",
     "text": [
      "100%|██████████| 8345/8345 [00:00<00:00, 66097.37it/s]\n"
     ]
    }
   ],
   "source": [
    "VOCAB_SIZE = len(vocab)  # 9801\n",
    "EMBEDDING_SIZE = 300\n",
    "\n",
    "# 初始化词向量矩阵（这里命名为static是因为这个词向量矩阵用预训练好的填充，无需重新训练）\n",
    "static_embeddings = np.zeros([VOCAB_SIZE, EMBEDDING_SIZE])\n",
    "\n",
    "for word, token in tqdm.tqdm(word_to_token.items()):\n",
    "    # 用glove词向量填充，如果没有对应的词向量，则用随机数填充\n",
    "    word_vector = word_to_vec.get(word, 0.2 * np.random.random(EMBEDDING_SIZE) - 0.1)\n",
    "    static_embeddings[token, :] = word_vector\n",
    "\n",
    "# 重置PAD为0向量\n",
    "pad_id = word_to_token[\"<pad>\"]\n",
    "static_embeddings[pad_id, :] = np.zeros(EMBEDDING_SIZE)\n",
    "static_embeddings = static_embeddings.astype(np.float32)"
   ]
  },
  {
   "cell_type": "markdown",
   "metadata": {},
   "source": [
    "## 辅助函数"
   ]
  },
  {
   "cell_type": "markdown",
   "metadata": {},
   "source": [
    "### 分割train和test"
   ]
  },
  {
   "cell_type": "code",
   "execution_count": 25,
   "metadata": {
    "collapsed": true,
    "scrolled": true
   },
   "outputs": [],
   "source": [
    "clean_sent = pd.Series(clean_sent)\n",
    "# mask\n",
    "m_train, m_val, m_test = splits==1, splits == 3, splits == 2\n",
    "\n",
    "\n",
    "x_train, x_train_len = total_tokens[m_train], total_lens[m_train]\n",
    "x_val  , x_val_len   = total_tokens[m_val],   total_lens[m_val]\n",
    "x_test , x_test_len  = total_tokens[m_test],  total_lens[m_test]\n",
    "y_train, y_val, y_test = sentiments[m_train].values, sentiments[m_val].values, sentiments[m_test].values\n",
    "\n",
    "# onehot\n",
    "def onehot_encode(label):\n",
    "    value_set = set(label.tolist())\n",
    "    dimension = len(value_set)\n",
    "    mat = np.zeros((label.shape[0], dimension))\n",
    "    for index, i in enumerate(label):\n",
    "        mat[index][i] = 1\n",
    "    return mat\n",
    "\n",
    "# y_train = onehot_encode(y_train)\n",
    "# y_val = onehot_encode(y_val)\n",
    "# y_test = onehot_encode(y_test)\n",
    "\n",
    "# y_train = y_train[:, np.newaxis] -1 \n",
    "# y_val = y_val[:, np.newaxis] - 1\n",
    "# y_test = y_test[:, np.newaxis] -1 \n",
    "# y_train, y_val, y_test = y_train - 1, y_val - 1, y_test - 1"
   ]
  },
  {
   "cell_type": "code",
   "execution_count": 34,
   "metadata": {},
   "outputs": [
    {
     "name": "stdout",
     "output_type": "stream",
     "text": [
      "8544 2210 1101\n"
     ]
    },
    {
     "name": "stderr",
     "output_type": "stream",
     "text": [
      "/home/mingyu_zhang/anaconda3/lib/python3.6/site-packages/seaborn/distributions.py:218: MatplotlibDeprecationWarning: \n",
      "The 'normed' kwarg was deprecated in Matplotlib 2.1 and will be removed in 3.1. Use 'density' instead.\n",
      "  color=hist_color, **hist_kws)\n",
      "/home/mingyu_zhang/anaconda3/lib/python3.6/site-packages/seaborn/distributions.py:218: MatplotlibDeprecationWarning: \n",
      "The 'normed' kwarg was deprecated in Matplotlib 2.1 and will be removed in 3.1. Use 'density' instead.\n",
      "  color=hist_color, **hist_kws)\n",
      "/home/mingyu_zhang/anaconda3/lib/python3.6/site-packages/seaborn/distributions.py:218: MatplotlibDeprecationWarning: \n",
      "The 'normed' kwarg was deprecated in Matplotlib 2.1 and will be removed in 3.1. Use 'density' instead.\n",
      "  color=hist_color, **hist_kws)\n"
     ]
    },
    {
     "data": {
      "image/png": "[encoded data removed]",
      "text/plain": [
       "<Figure size 864x216 with 3 Axes>"
      ]
     },
     "metadata": {},
     "output_type": "display_data"
    }
   ],
   "source": [
    "# plt.legend(loc='upper left')\n",
    "import seaborn as sns\n",
    "print(len(y_train), len(y_test), len(y_val) )\n",
    "plt.figure(figsize=(12,3))\n",
    "plt.subplot(1,3,1)\n",
    "sns.distplot(pd.Series(y_train, name=\"y_train\"), kde=False, norm_hist=True)\n",
    "plt.subplot(1,3,2)\n",
    "sns.distplot(pd.Series(y_test, name=\"y_test\"), kde=False, norm_hist=True)\n",
    "plt.subplot(1,3,3)\n",
    "sns.distplot(pd.Series(y_val, name=\"y_val\"), kde=False, norm_hist=True)\n",
    "plt.show()"
   ]
  },
  {
   "cell_type": "markdown",
   "metadata": {},
   "source": [
    "## 混淆矩阵"
   ]
  },
  {
   "cell_type": "code",
   "execution_count": 35,
   "metadata": {},
   "outputs": [],
   "source": [
    "from sklearn.metrics import confusion_matrix\n",
    "import seaborn as sns\n",
    "from sklearn.metrics import confusion_matrix\n",
    "import matplotlib.pyplot as plt\n",
    "\n",
    "def draw_confusion_matrix(y_true, y_pred):\n",
    "    labels = list(set(y_true))\n",
    "    conf_mat = confusion_matrix(y_true, y_pred, labels = labels) / len(y_true)\n",
    "    sns.heatmap(conf_mat,annot=True,cmap=\"Blues\")\n",
    "\n",
    "def get_batch(x, y, batch_size=256, shuffle=False):\n",
    "    assert x.shape[0] == y.shape[0], print(\"error shape!\")\n",
    "    # shuffle\n",
    "    if shuffle:\n",
    "        shuffled_index = np.random.permutation(range(x.shape[0]))        \n",
    "        x = x[shuffled_index]\n",
    "        y = y[shuffled_index]\n",
    "    \n",
    "    # 统计共几个完整的batch\n",
    "    n_batches = int(x.shape[0] / batch_size)\n",
    "    \n",
    "    for i in range(n_batches - 1):\n",
    "        x_batch = x[i*batch_size: (i+1)*batch_size]\n",
    "        y_batch = y[i*batch_size: (i+1)*batch_size]\n",
    "    \n",
    "        yield x_batch, y_batch\n",
    "\n",
    "def get_batch_lens(x, y, lens, batch_size=256, shuffle=True):\n",
    "    assert x.shape[0] == y.shape[0], print(\"error shape!\")\n",
    "    # shuffle\n",
    "    if shuffle:\n",
    "        shuffled_index = np.random.permutation(range(x.shape[0]))\n",
    "\n",
    "        x = x[shuffled_index]\n",
    "        y = y[shuffled_index]\n",
    "        l = lens[shuffled_index]\n",
    "    \n",
    "    # 统计共几个完整的batch\n",
    "    n_batches = int(x.shape[0] / batch_size)\n",
    "    \n",
    "    for i in range(n_batches - 1):\n",
    "        x_batch = x[i*batch_size: (i+1)*batch_size]\n",
    "        y_batch = y[i*batch_size: (i+1)*batch_size]\n",
    "        l_batch = lens[i*batch_size: (i+1)*batch_size]\n",
    "\n",
    "    \n",
    "        yield x_batch, y_batch, l_batch"
   ]
  },
  {
   "cell_type": "markdown",
   "metadata": {},
   "source": [
    "# DNN模型"
   ]
  },
  {
   "cell_type": "markdown",
   "metadata": {},
   "source": [
    "## 构建模型图"
   ]
  },
  {
   "cell_type": "code",
   "execution_count": 47,
   "metadata": {},
   "outputs": [],
   "source": [
    "# 清空图\n",
    "tf.reset_default_graph()\n",
    "\n",
    "# 定义神经网络超参数\n",
    "HIDDEN_SIZE   = 16\n",
    "LEARNING_RATE = 1e-3\n",
    "tf.set_random_seed(1234)\n",
    "\n",
    "with tf.name_scope(\"dnn\"):\n",
    "    # 输入及输出tensor\n",
    "    with tf.name_scope(\"placeholders\"):\n",
    "        inputs = tf.placeholder(dtype=tf.int32, shape=(None, SENTENCE_LIMIT_SIZE), name=\"inputs\")\n",
    "        targets = tf.placeholder(dtype=tf.int32, shape=(None,), name=\"targets\")\n",
    "        prob = tf.placeholder_with_default(1.0, shape=())\n",
    "        training = tf.placeholder_with_default(False, shape=())\n",
    "\n",
    "    \n",
    "    # embeddings\n",
    "    with tf.name_scope(\"embeddings\"):\n",
    "        # 用pre-trained词向量来作为embedding层\n",
    "        embedding_matrix = tf.Variable(initial_value=static_embeddings, trainable=False, name=\"embedding_matrix\")\n",
    "        embed = tf.nn.embedding_lookup(embedding_matrix, inputs, name=\"embed\")\n",
    "        \n",
    "        # 相加词向量得到句子向量\n",
    "        sum_embed = tf.reduce_sum(embed, axis=1, name=\"sum_embed\")\n",
    "        \n",
    "    # model\n",
    "    with tf.name_scope(\"model\"):\n",
    "\n",
    "        dense1 = tf.layers.dense(sum_embed, \n",
    "                                 units=HIDDEN_SIZE, \n",
    "                                 use_bias=True,\n",
    "                                 activation=tf.nn.relu)\n",
    "        \n",
    "#         dense2 = tf.layers.dense(dense1, \n",
    "#                          units=HIDDEN_SIZE, \n",
    "#                          use_bias=True,\n",
    "#                          activation=tf.nn.relu)\n",
    "        \n",
    "        outputs = tf.layers.dense(dense1, \n",
    "                         units=5, \n",
    "                         use_bias=True,\n",
    "                         activation=None)\n",
    "        \n",
    "        \n",
    "#         outputs = tf.nn.sigmoid(dense3, name=\"outputs\")\n",
    "    \n",
    "    # loss\n",
    "    with tf.name_scope(\"loss\"):\n",
    "        loss = tf.reduce_mean(tf.nn.sparse_softmax_cross_entropy_with_logits(labels=targets, logits=outputs))\n",
    "    \n",
    "    # optimizer\n",
    "    with tf.name_scope(\"optimizer\"):\n",
    "        optimizer = tf.train.AdamOptimizer(LEARNING_RATE).minimize(loss)\n",
    "        \n",
    "    # evaluation\n",
    "    with tf.name_scope(\"evaluation\"):\n",
    "        preds = tf.cast(tf.argmax(tf.nn.sigmoid(outputs), axis=1), tf.int32)\n",
    "        correct_preds = tf.equal(preds, targets)\n",
    "        accuracy = tf.reduce_sum(tf.cast(correct_preds, tf.float32))"
   ]
  },
  {
   "cell_type": "markdown",
   "metadata": {},
   "source": [
    "## 训练DNN模型"
   ]
  },
  {
   "cell_type": "code",
   "execution_count": 48,
   "metadata": {
    "scrolled": true
   },
   "outputs": [
    {
     "name": "stdout",
     "output_type": "stream",
     "text": [
      "Epoch: 10, Train loss: 1.2512, Train accuracy: 0.4479, Val accuracy: 0.3969\n",
      "Epoch: 20, Train loss: 1.1545, Train accuracy: 0.4954, Val accuracy: 0.3833\n",
      "Epoch: 30, Train loss: 1.0954, Train accuracy: 0.5172, Val accuracy: 0.3751\n",
      "Epoch: 40, Train loss: 1.0492, Train accuracy: 0.5358, Val accuracy: 0.3715\n",
      "Epoch: 50, Train loss: 1.0126, Train accuracy: 0.5526, Val accuracy: 0.3769\n",
      "Epoch: 60, Train loss: 0.9832, Train accuracy: 0.5681, Val accuracy: 0.3715\n",
      "Epoch: 70, Train loss: 0.9650, Train accuracy: 0.5741, Val accuracy: 0.3588\n",
      "Epoch: 80, Train loss: 0.9431, Train accuracy: 0.5820, Val accuracy: 0.3624\n",
      "Epoch: 90, Train loss: 0.9268, Train accuracy: 0.5838, Val accuracy: 0.3579\n",
      "Epoch: 100, Train loss: 0.9128, Train accuracy: 0.5935, Val accuracy: 0.3715\n"
     ]
    }
   ],
   "source": [
    "EPOCHES       = 100\n",
    "BATCH_SIZE    = 128\n",
    "# 存储准确率\n",
    "nn_train_accuracy = []\n",
    "nn_val_accuracy = []\n",
    "saver = tf.train.Saver()\n",
    "\n",
    "np.random.seed(0)\n",
    "\n",
    "best_val_accuracy = 0\n",
    "with tf.Session() as sess:\n",
    "    sess.run(tf.global_variables_initializer())\n",
    "    \n",
    "    writer = tf.summary.FileWriter(\"./graphs/dnn\", tf.get_default_graph())\n",
    "    \n",
    "    n_batches = int(x_train.shape[0] / BATCH_SIZE)\n",
    "    \n",
    "    for epoch in range(EPOCHES):\n",
    "        total_loss = 0\n",
    "        train_correct = 0\n",
    "        # 计算epoch损失\n",
    "        for x_batch, y_batch in get_batch(x_train, y_train, BATCH_SIZE, True):\n",
    "            _, batch_loss,correct = sess.run([optimizer, loss, accuracy],\n",
    "                                     feed_dict={inputs: x_batch, \n",
    "                                                targets: y_batch, \n",
    "                                                prob: 0.5,\n",
    "                                                training: True})\n",
    "            train_correct += correct\n",
    "            total_loss    += batch_loss\n",
    "            \n",
    "        # 在train上准确率\n",
    "#         train_correct = sess.run(accuracy, feed_dict={inputs: x_train, targets: y_train})\n",
    "        train_acc = train_correct / x_train.shape[0]\n",
    "        nn_train_accuracy.append(train_acc)\n",
    "        \n",
    "        # 在val上准确率\n",
    "        val_corrects = sess.run(accuracy, feed_dict={inputs: x_val, targets: y_val})\n",
    "        val_acc = val_corrects / x_val.shape[0]\n",
    "        nn_val_accuracy.append(val_acc)\n",
    "        \n",
    "        if best_val_accuracy < val_acc:\n",
    "            saver.save(sess, \"./checkpoints/dnn_best\")\n",
    "            writer.close()\n",
    "            best_val_accuracy = val_acc\n",
    "\n",
    "            \n",
    "        if (epoch + 1) % 10 == 0:\n",
    "            print(\"Epoch: {}, Train loss: {:.4f}, Train accuracy: {:.4f}, Val accuracy: {:.4f}\".format(epoch + 1, \n",
    "                                                                                                    total_loss/n_batches,\n",
    "                                                                                                    train_acc,\n",
    "                                                                                                    val_acc))"
   ]
  },
  {
   "cell_type": "code",
   "execution_count": 49,
   "metadata": {},
   "outputs": [
    {
     "name": "stdout",
     "output_type": "stream",
     "text": [
      "[best] epoch: 9, val-accuracy 0.3969\n",
      "INFO:tensorflow:Restoring parameters from checkpoints/dnn_best\n",
      "The dnn model accuracy on test set: 0.4072\n"
     ]
    },
    {
     "data": {
      "image/png": "[encoded data removed]",
      "text/plain": [
       "<Figure size 1080x360 with 3 Axes>"
      ]
     },
     "metadata": {},
     "output_type": "display_data"
    }
   ],
   "source": [
    "model_type = 'dnn'\n",
    "best_epoch = np.argmax(nn_val_accuracy)\n",
    "print(\"[best] epoch: {}, val-accuracy {:.4f}\".format(best_epoch, nn_val_accuracy[best_epoch]))\n",
    "\n",
    "plt.figure(figsize=(15,5))\n",
    "plt.subplot(1,2,1)\n",
    "plt.plot(nn_train_accuracy)\n",
    "plt.plot(nn_val_accuracy)\n",
    "plt.ylim(ymin=0.2, ymax=0.95)\n",
    "plt.title(\"The accuracy of {} model\".format(model_type))\n",
    "plt.legend([\"train\", \"val\"])\n",
    "\n",
    "plt.subplot(1,2,2)\n",
    "# 在test上的准确率\n",
    "with tf.Session() as sess:\n",
    "    saver.restore(sess, \"checkpoints/{}_best\".format(model_type))\n",
    "    acc_v,preds_v = sess.run([accuracy, preds],\n",
    "                    feed_dict={ inputs: x_test, \n",
    "                                targets: y_test})\n",
    "    draw_confusion_matrix(y_test.squeeze().tolist(), preds_v.squeeze().tolist())\n",
    "    print(\"The {} model accuracy on test set: {:.4f}\".format(model_type, acc_v / x_test.shape[0]))\n",
    "plt.savefig('dnn_test2.png',dpi=400,pad_inches=0.0,bbox_inches='tight')"
   ]
  },
  {
   "cell_type": "markdown",
   "metadata": {},
   "source": [
    "# RNN模型"
   ]
  },
  {
   "cell_type": "markdown",
   "metadata": {},
   "source": [
    "## 构建模型图"
   ]
  },
  {
   "cell_type": "code",
   "execution_count": 66,
   "metadata": {
    "collapsed": true
   },
   "outputs": [],
   "source": [
    "# 清空图\n",
    "tf.reset_default_graph()\n",
    "\n",
    "# 定义网络超参数\n",
    "HIDDEN_SIZE = 8\n",
    "LEARNING_RATE = 1e-3\n",
    "\n",
    "tf.set_random_seed(1234)\n",
    "\n",
    "with tf.name_scope(\"rnn\"):\n",
    "    # placeholders\n",
    "    with tf.name_scope(\"placeholders\"):\n",
    "        inputs = tf.placeholder(dtype=tf.int32, shape=(None, SENTENCE_LIMIT_SIZE), name=\"inputs\")\n",
    "        targets = tf.placeholder(dtype=tf.int32, shape=(None,), name=\"targets\")\n",
    "        input_lens = tf.placeholder(dtype=tf.int32, shape=(None, ), name=\"inputs_lens\")\n",
    "        prob = tf.placeholder_with_default(1.0, shape=())\n",
    "    \n",
    "    # embeddings\n",
    "    with tf.name_scope(\"embeddings\"):\n",
    "        embedding_matrix = tf.Variable(initial_value=static_embeddings, trainable=False, name=\"embedding_matrix\")\n",
    "        embed = tf.nn.embedding_lookup(embedding_matrix, inputs, name=\"embed\")\n",
    "    \n",
    "    # model\n",
    "    with tf.name_scope(\"model\"):\n",
    "        # 构造lstm单元\n",
    "        lstm = tf.contrib.rnn.LSTMCell(HIDDEN_SIZE, initializer=tf.random_uniform_initializer(-0.1, 0.1, seed=123))\n",
    "        # 添加dropout\n",
    "        drop_lstm = tf.contrib.rnn.DropoutWrapper(lstm, output_keep_prob=prob, seed=2)\n",
    "        _, lstm_state = tf.nn.dynamic_rnn(drop_lstm, embed, dtype=tf.float32, sequence_length=input_lens)\n",
    "        \n",
    "        outputs = tf.layers.dense(lstm_state.h, \n",
    "                         units=5, \n",
    "                         use_bias=True,\n",
    "                         activation=None)\n",
    "        \n",
    "    # evaluation\n",
    "    # loss\n",
    "    with tf.name_scope(\"loss\"):\n",
    "        loss = tf.reduce_mean(tf.nn.sparse_softmax_cross_entropy_with_logits(labels=targets, logits=outputs))\n",
    "    \n",
    "    # optimizer\n",
    "    with tf.name_scope(\"optimizer\"):\n",
    "        optimizer = tf.train.AdamOptimizer(LEARNING_RATE).minimize(loss)\n",
    "        \n",
    "    # evaluation\n",
    "    with tf.name_scope(\"evaluation\"):\n",
    "        preds = tf.cast(tf.argmax(tf.nn.sigmoid(outputs), axis=1), tf.int32)\n",
    "        correct_preds = tf.equal(preds, targets)\n",
    "        accuracy = tf.reduce_sum(tf.cast(correct_preds, tf.float32))"
   ]
  },
  {
   "cell_type": "markdown",
   "metadata": {},
   "source": [
    "## 训练模型"
   ]
  },
  {
   "cell_type": "code",
   "execution_count": 68,
   "metadata": {
    "scrolled": true
   },
   "outputs": [
    {
     "name": "stdout",
     "output_type": "stream",
     "text": [
      "Epoch: 10, Train loss: 1.2941, Train accuracy: 0.4161, Val accuracy: 0.3996\n",
      "Epoch: 20, Train loss: 1.2170, Train accuracy: 0.4666, Val accuracy: 0.4114\n",
      "Epoch: 30, Train loss: 1.1488, Train accuracy: 0.5027, Val accuracy: 0.4060\n",
      "Epoch: 40, Train loss: 1.1113, Train accuracy: 0.5254, Val accuracy: 0.4015\n",
      "Epoch: 50, Train loss: 1.0637, Train accuracy: 0.5508, Val accuracy: 0.3878\n",
      "Epoch: 60, Train loss: 1.0255, Train accuracy: 0.5727, Val accuracy: 0.3787\n",
      "Epoch: 70, Train loss: 1.0027, Train accuracy: 0.5775, Val accuracy: 0.3706\n",
      "Epoch: 80, Train loss: 0.9810, Train accuracy: 0.5921, Val accuracy: 0.3742\n",
      "Epoch: 90, Train loss: 0.9645, Train accuracy: 0.6008, Val accuracy: 0.3733\n",
      "Epoch: 100, Train loss: 0.9471, Train accuracy: 0.6080, Val accuracy: 0.3669\n"
     ]
    }
   ],
   "source": [
    "EPOCHES = 100\n",
    "BATCH_SIZE = 128\n",
    "# 存储准确率\n",
    "nn_train_accuracy = []\n",
    "nn_val_accuracy = []\n",
    "saver = tf.train.Saver()\n",
    "\n",
    "best_val_accuracy = 0\n",
    "with tf.Session() as sess:\n",
    "    sess.run(tf.global_variables_initializer())\n",
    "    \n",
    "    writer = tf.summary.FileWriter(\"./graphs/rnn\", tf.get_default_graph())\n",
    "    \n",
    "    n_batches = int(x_train.shape[0] / BATCH_SIZE)\n",
    "    \n",
    "    for epoch in range(EPOCHES):\n",
    "        total_loss = 0\n",
    "        train_correct = 0\n",
    "        # 计算epoch损失\n",
    "        for x_batch, y_batch, l_batch in get_batch_lens(x_train, y_train, x_train_len, BATCH_SIZE, True):\n",
    "            _, batch_loss,correct = sess.run([optimizer, loss, accuracy],\n",
    "                                     feed_dict={inputs: x_batch, \n",
    "                                                targets: y_batch, \n",
    "                                                input_lens: l_batch,\n",
    "                                                prob: 0.5})\n",
    "            train_correct += correct\n",
    "            total_loss    += batch_loss\n",
    "            \n",
    "        # 在train上准确率\n",
    "#         train_correct = sess.run(accuracy, feed_dict={inputs: x_train, targets: y_train})\n",
    "        train_acc = train_correct / x_train.shape[0]\n",
    "        nn_train_accuracy.append(train_acc)\n",
    "        \n",
    "        # 在val上准确率\n",
    "        val_corrects = sess.run(accuracy, feed_dict={inputs: x_val, targets: y_val, input_lens: x_val_len})\n",
    "        val_acc = val_corrects / x_val.shape[0]\n",
    "        nn_val_accuracy.append(val_acc)\n",
    "        \n",
    "        if best_val_accuracy < val_acc:\n",
    "            saver.save(sess, \"./checkpoints/rnn_best\")\n",
    "            writer.close()\n",
    "            best_val_accuracy = val_acc\n",
    "\n",
    "            \n",
    "        if (epoch + 1) % 10 == 0:\n",
    "            print(\"Epoch: {}, Train loss: {:.4f}, Train accuracy: {:.4f}, Val accuracy: {:.4f}\".format(epoch + 1, \n",
    "                                                                                                    total_loss/n_batches,\n",
    "                                                                                                    train_acc,\n",
    "                                                                                                    val_acc))"
   ]
  },
  {
   "cell_type": "code",
   "execution_count": 69,
   "metadata": {},
   "outputs": [
    {
     "name": "stdout",
     "output_type": "stream",
     "text": [
      "[best] epoch: 14, val-accuracy 0.4260\n",
      "INFO:tensorflow:Restoring parameters from checkpoints/rnn_best\n",
      "The rnn model accuracy on test set: 0.4041\n"
     ]
    },
    {
     "data": {
      "image/png": "[encoded data removed]",
      "text/plain": [
       "<Figure size 1080x360 with 3 Axes>"
      ]
     },
     "metadata": {},
     "output_type": "display_data"
    }
   ],
   "source": [
    "# 4114, 4308\n",
    "model_type = 'rnn'\n",
    "best_epoch = np.argmax(nn_val_accuracy)\n",
    "print(\"[best] epoch: {}, val-accuracy {:.4f}\".format(best_epoch, nn_val_accuracy[best_epoch]))\n",
    "\n",
    "plt.figure(figsize=(15,5))\n",
    "plt.subplot(1,2,1)\n",
    "plt.plot(nn_train_accuracy)\n",
    "plt.plot(nn_val_accuracy)\n",
    "plt.ylim(ymin=0.2, ymax=0.8)\n",
    "plt.title(\"The accuracy of {} model\".format(model_type))\n",
    "plt.legend([\"train\", \"val\"])\n",
    "\n",
    "plt.subplot(1,2,2)\n",
    "# 在test上的准确率\n",
    "with tf.Session() as sess:\n",
    "    saver.restore(sess, \"checkpoints/{}_best\".format(model_type))\n",
    "    acc_v,preds_v = sess.run([accuracy, preds],\n",
    "                    feed_dict={ inputs: x_test, \n",
    "                                targets: y_test,\n",
    "                                 input_lens: x_test_len})\n",
    "    draw_confusion_matrix(y_test.squeeze().tolist(), preds_v.squeeze().tolist())\n",
    "    print(\"The {} model accuracy on test set: {:.4f}\".format(model_type, acc_v / x_test.shape[0]))\n",
    "\n",
    "plt.savefig('rnn_test2.png',dpi=400,pad_inches=0.0,bbox_inches='tight')"
   ]
  },
  {
   "cell_type": "markdown",
   "metadata": {},
   "source": [
    "# CNN模型"
   ]
  },
  {
   "cell_type": "markdown",
   "metadata": {},
   "source": [
    "## 构建模型图"
   ]
  },
  {
   "cell_type": "code",
   "execution_count": 76,
   "metadata": {
    "collapsed": true
   },
   "outputs": [],
   "source": [
    "# 清空图\n",
    "tf.reset_default_graph()\n",
    "\n",
    "# 我在这里定义了5种filter，每种100个\n",
    "filters_size  = [3, 4, 5]\n",
    "num_filters   = 100\n",
    "# 超参数\n",
    "LEARNING_RATE = 1e-4\n",
    "L2_LAMBDA     = 3\n",
    "\n",
    "tf.set_random_seed(1234)\n",
    "with tf.name_scope(\"cnn\"):\n",
    "    with tf.name_scope(\"placeholders\"):\n",
    "        inputs = tf.placeholder(dtype=tf.int32, shape=(None, SENTENCE_LIMIT_SIZE), name=\"inputs\")\n",
    "        targets = tf.placeholder(dtype=tf.int32, shape=(None,), name=\"targets\")\n",
    "        prob = tf.placeholder_with_default(1.0, shape=())\n",
    "    \n",
    "    # embeddings\n",
    "    with tf.name_scope(\"embeddings\"):\n",
    "        embedding_matrix = tf.Variable(initial_value=static_embeddings, trainable=False, name=\"embedding_matrix\")\n",
    "        embed = tf.nn.embedding_lookup(embedding_matrix, inputs, name=\"embed\")\n",
    "        # 添加channel维度\n",
    "        embed_expanded = tf.expand_dims(embed, -1, name=\"embed_expand\")\n",
    "    \n",
    "    # 用来存储max-pooling的结果\n",
    "    pooled_outputs = []\n",
    "\n",
    "    # 迭代多个filter\n",
    "    for i, filter_size in enumerate(filters_size):\n",
    "        with tf.name_scope(\"conv_maxpool_%s\" % filter_size):\n",
    "            filter_shape = [filter_size, EMBEDDING_SIZE, 1, num_filters]\n",
    "            W = tf.Variable(tf.truncated_normal(filter_shape, mean=0.0, stddev=0.1), name=\"W\")\n",
    "            b = tf.Variable(tf.zeros(num_filters), name=\"b\")\n",
    "\n",
    "            conv = tf.nn.conv2d(input=embed_expanded, \n",
    "                                 filter=W, \n",
    "                                 strides=[1, 1, 1, 1], \n",
    "                                 padding=\"VALID\",\n",
    "                                 name=\"conv\")\n",
    "\n",
    "            # 激活\n",
    "            a = tf.nn.relu(tf.nn.bias_add(conv, b), name=\"activations\")\n",
    "            \n",
    "            # 池化\n",
    "            max_pooling = tf.nn.max_pool(value=a, \n",
    "                                    ksize=[1, SENTENCE_LIMIT_SIZE - filter_size + 1, 1, 1],\n",
    "                                    strides=[1, 1, 1, 1],\n",
    "                                    padding=\"VALID\",\n",
    "                                    name=\"max_pooling\")\n",
    "            \n",
    "            pooled_outputs.append(max_pooling)\n",
    "    \n",
    "    # 统计所有的filter\n",
    "    total_filters = num_filters * len(filters_size)\n",
    "    total_pool = tf.concat(pooled_outputs, 3)\n",
    "    flattend_pool = tf.reshape(total_pool, (-1, total_filters))\n",
    "    \n",
    "    # dropout\n",
    "    with tf.name_scope(\"dropout\"):\n",
    "        dropout = tf.nn.dropout(flattend_pool, prob, seed=2)\n",
    "    \n",
    "    # output\n",
    "    with tf.name_scope(\"output\"):\n",
    "        logits = tf.layers.dense(dropout, \n",
    "                                 units=5, \n",
    "                                 use_bias=True,\n",
    "                                 activation=None)\n",
    "    \n",
    "    # loss\n",
    "    with tf.name_scope(\"loss\"):\n",
    "        loss = tf.reduce_mean(tf.nn.sparse_softmax_cross_entropy_with_logits(labels=targets, logits=logits))\n",
    "        loss = loss + L2_LAMBDA * tf.nn.l2_loss(W)\n",
    "        \n",
    "    # optimizer\n",
    "    with tf.name_scope(\"optimizer\"):\n",
    "        optimizer = tf.train.AdamOptimizer(LEARNING_RATE).minimize(loss)\n",
    "        \n",
    "    # evaluation    \n",
    "    with tf.name_scope(\"evaluation\"):\n",
    "        preds = tf.cast(tf.argmax(logits, axis=1), tf.int32)\n",
    "        correct_preds = tf.equal(preds, targets)\n",
    "        accuracy = tf.reduce_sum(tf.cast(correct_preds, tf.float32))"
   ]
  },
  {
   "cell_type": "markdown",
   "metadata": {},
   "source": [
    "## 训练模型"
   ]
  },
  {
   "cell_type": "code",
   "execution_count": null,
   "metadata": {},
   "outputs": [
    {
     "name": "stdout",
     "output_type": "stream",
     "text": [
      "Epoch: 10, Train loss: 540.9148, Train accuracy: 0.2595, Val accuracy: 0.3197\n",
      "Epoch: 20, Train loss: 144.6673, Train accuracy: 0.3392, Val accuracy: 0.3497\n",
      "Epoch: 30, Train loss: 31.8831, Train accuracy: 0.4038, Val accuracy: 0.3669\n",
      "Epoch: 40, Train loss: 5.8434, Train accuracy: 0.4505, Val accuracy: 0.3715\n",
      "Epoch: 50, Train loss: 1.5809, Train accuracy: 0.4971, Val accuracy: 0.3815\n",
      "Epoch: 60, Train loss: 1.1260, Train accuracy: 0.5371, Val accuracy: 0.3833\n",
      "Epoch: 70, Train loss: 1.0403, Train accuracy: 0.5757, Val accuracy: 0.3869\n",
      "Epoch: 80, Train loss: 0.9851, Train accuracy: 0.5962, Val accuracy: 0.3851\n",
      "Epoch: 90, Train loss: 0.9111, Train accuracy: 0.6354, Val accuracy: 0.3842\n"
     ]
    }
   ],
   "source": [
    "EPOCHES       = 100\n",
    "BATCH_SIZE    = 128\n",
    "# 存储准确率\n",
    "nn_train_accuracy = []\n",
    "nn_val_accuracy = []\n",
    "saver = tf.train.Saver()\n",
    "\n",
    "np.random.seed(0)\n",
    "\n",
    "best_val_accuracy = 0\n",
    "with tf.Session() as sess:\n",
    "    sess.run(tf.global_variables_initializer())\n",
    "    \n",
    "    writer = tf.summary.FileWriter(\"./graphs/cnn\", tf.get_default_graph())\n",
    "    \n",
    "    n_batches = int(x_train.shape[0] / BATCH_SIZE)\n",
    "    \n",
    "    for epoch in range(EPOCHES):\n",
    "        total_loss = 0\n",
    "        train_correct = 0\n",
    "        # 计算epoch损失\n",
    "        for x_batch, y_batch in get_batch(x_train, y_train, BATCH_SIZE, False):\n",
    "            _, batch_loss,correct = sess.run([optimizer, loss, accuracy],\n",
    "                                     feed_dict={inputs: x_batch, targets: y_batch, prob: 0.5})\n",
    "            train_correct += correct\n",
    "            total_loss    += batch_loss\n",
    "            \n",
    "        # 在train上准确率\n",
    "#         train_correct = sess.run(accuracy, feed_dict={inputs: x_train, targets: y_train})\n",
    "        train_acc = train_correct / x_train.shape[0]\n",
    "        nn_train_accuracy.append(train_acc)\n",
    "        \n",
    "        # 在val上准确率\n",
    "        val_corrects = sess.run(accuracy, feed_dict={inputs: x_val, targets: y_val})\n",
    "        val_acc = val_corrects / x_val.shape[0]\n",
    "        nn_val_accuracy.append(val_acc)\n",
    "        \n",
    "        if best_val_accuracy < val_acc:\n",
    "            saver.save(sess, \"./checkpoints/cnn_best\")\n",
    "            writer.close()\n",
    "            best_val_accuracy = val_acc\n",
    "\n",
    "            \n",
    "        if (epoch + 1) % 10 == 0:\n",
    "            print(\"Epoch: {}, Train loss: {:.4f}, Train accuracy: {:.4f}, Val accuracy: {:.4f}\".format(epoch + 1, \n",
    "                                                                                                    total_loss/n_batches,\n",
    "                                                                                                    train_acc,\n",
    "                                                                                                    val_acc))"
   ]
  },
  {
   "cell_type": "code",
   "execution_count": 75,
   "metadata": {},
   "outputs": [
    {
     "name": "stdout",
     "output_type": "stream",
     "text": [
      "[best] epoch: 69, val-accuracy 0.3887\n",
      "INFO:tensorflow:Restoring parameters from checkpoints/cnn_best\n",
      "The cnn model accuracy on test set: 0.3932\n"
     ]
    },
    {
     "data": {
      "image/png": "[encoded data removed]",
      "text/plain": [
       "<Figure size 1080x360 with 3 Axes>"
      ]
     },
     "metadata": {},
     "output_type": "display_data"
    }
   ],
   "source": [
    "model_type = 'cnn'\n",
    "best_epoch = np.argmax(nn_val_accuracy)\n",
    "print(\"[best] epoch: {}, val-accuracy {:.4f}\".format(best_epoch, nn_val_accuracy[best_epoch]))\n",
    "\n",
    "plt.figure(figsize=(15,5))\n",
    "plt.subplot(1,2,1)\n",
    "plt.plot(nn_train_accuracy)\n",
    "plt.plot(nn_val_accuracy)\n",
    "plt.ylim(ymin=0.2, ymax=0.95)\n",
    "plt.title(\"The accuracy of {} model\".format(model_type))\n",
    "plt.legend([\"train\", \"val\"])\n",
    "\n",
    "plt.subplot(1,2,2)\n",
    "# 在test上的准确率\n",
    "with tf.Session() as sess:\n",
    "    saver.restore(sess, \"checkpoints/{}_best\".format(model_type))\n",
    "    acc_v,preds_v = sess.run([accuracy, preds],\n",
    "                    feed_dict={ inputs: x_test, \n",
    "                                targets: y_test})\n",
    "    draw_confusion_matrix(y_test.squeeze().tolist(), preds_v.squeeze().tolist())\n",
    "    print(\"The {} model accuracy on test set: {:.4f}\".format(model_type, acc_v / x_test.shape[0]))\n",
    "    \n",
    "plt.savefig('cnn_test2.png',dpi=400,pad_inches=0.0,bbox_inches='tight')"
   ]
  },
  {
   "cell_type": "code",
   "execution_count": 247,
   "metadata": {},
   "outputs": [
    {
     "name": "stdout",
     "output_type": "stream",
     "text": [
      "8529 2133\n"
     ]
    }
   ],
   "source": [
    "# MYNET\n",
    "# 清空图\n",
    "tf.reset_default_graph()\n",
    "\n",
    "# 我在这里定义了5种filter，每种100个\n",
    "filters_size = [3,4,5]\n",
    "num_filters = 100\n",
    "# 超参数\n",
    "LEARNING_RATE = 1e-3\n",
    "L2_LAMBDA     = 20\n",
    "\n",
    "with tf.name_scope(\"cnn\"):\n",
    "    with tf.name_scope(\"placeholders\"):\n",
    "        inputs = tf.placeholder(dtype=tf.int32, shape=(None, SENTENCE_LIMIT_SIZE), name=\"inputs\")\n",
    "        targets = tf.placeholder(dtype=tf.int32, shape=(None,), name=\"targets\")\n",
    "        prob = tf.placeholder_with_default(1.0, shape=())\n",
    "    \n",
    "    # embeddings\n",
    "    with tf.name_scope(\"embeddings\"):\n",
    "        embedding_matrix = tf.Variable(initial_value=static_embeddings, trainable=False, name=\"embedding_matrix\")\n",
    "        embed = tf.nn.embedding_lookup(embedding_matrix, inputs, name=\"embed\")\n",
    "        # 添加channel维度\n",
    "        embed_expanded = tf.expand_dims(embed, -1, name=\"embed_expand\")\n",
    "    \n",
    "    # 用来存储max-pooling的结果\n",
    "    pooled_outputs = []\n",
    "\n",
    "    # 迭代多个filter\n",
    "    for i, filter_size in enumerate(filters_size):\n",
    "        with tf.name_scope(\"conv_maxpool_%s\" % filter_size):\n",
    "            filter_shape = [filter_size, EMBEDDING_SIZE, 1, num_filters]\n",
    "            W = tf.Variable(tf.truncated_normal(filter_shape, mean=0.0, stddev=0.1), name=\"W\")\n",
    "            b = tf.Variable(tf.zeros(num_filters), name=\"b\")\n",
    "\n",
    "            conv = tf.nn.conv2d(input=embed_expanded, \n",
    "                                 filter=W, \n",
    "                                 strides=[1, 1, 1, 1], \n",
    "                                 padding=\"VALID\",\n",
    "                                 name=\"conv\")\n",
    "\n",
    "            # 激活\n",
    "            a = tf.nn.relu(tf.nn.bias_add(conv, b), name=\"activations\")\n",
    "            # 池化\n",
    "            max_pooling = tf.nn.max_pool(value=a, \n",
    "                                    ksize=[1, SENTENCE_LIMIT_SIZE - filter_size + 1, 1, 1],\n",
    "                                    strides=[1, 1, 1, 1],\n",
    "                                    padding=\"VALID\",\n",
    "                                    name=\"max_pooling\")\n",
    "            pooled_outputs.append(max_pooling)\n",
    "    \n",
    "    # 统计所有的filter\n",
    "    total_filters = num_filters * len(filters_size)\n",
    "    total_pool = tf.concat(pooled_outputs, 3)\n",
    "    flattend_pool = tf.reshape(total_pool, (-1, total_filters))\n",
    "    \n",
    "    # dropout\n",
    "    with tf.name_scope(\"dropout\"):\n",
    "        dropout = tf.nn.dropout(flattend_pool, prob, seed=2)\n",
    "    \n",
    "    # output\n",
    "    with tf.name_scope(\"output\"):\n",
    "        W = tf.get_variable(\"W\", shape=(total_filters, 5), initializer=tf.contrib.layers.xavier_initializer())\n",
    "        b = tf.Variable(tf.zeros(5), name=\"b\")\n",
    "        logits = tf.add(tf.matmul(dropout, W), b)\n",
    "    \n",
    "    # loss\n",
    "    with tf.name_scope(\"loss\"):\n",
    "        loss = tf.reduce_mean(tf.nn.sparse_softmax_cross_entropy_with_logits(labels=targets, logits=logits))\n",
    "        loss = loss + L2_LAMBDA * tf.nn.l2_loss(W)\n",
    "        \n",
    "    # optimizer\n",
    "    with tf.name_scope(\"optimizer\"):\n",
    "        optimizer = tf.train.AdamOptimizer(LEARNING_RATE).minimize(loss)\n",
    "        \n",
    "    # evaluation    \n",
    "    with tf.name_scope(\"evaluation\"):\n",
    "        preds = tf.cast(tf.argmax(logits, axis=1), tf.int32)\n",
    "        correct_preds = tf.equal(preds, targets)\n",
    "        accuracy = tf.reduce_sum(tf.cast(correct_preds, tf.float32))\n",
    "\n",
    "EPOCHES       = 100\n",
    "BATCH_SIZE    = 128\n",
    "# 存储准确率\n",
    "nn_train_accuracy = []\n",
    "nn_val_accuracy = []\n",
    "saver = tf.train.Saver()\n",
    "\n",
    "best_val_accuracy = 0\n",
    "with tf.Session() as sess:\n",
    "    sess.run(tf.global_variables_initializer())\n",
    "    \n",
    "    writer = tf.summary.FileWriter(\"./graphs/cnn\", tf.get_default_graph())\n",
    "    \n",
    "    n_batches = int(x_train.shape[0] / BATCH_SIZE)\n",
    "    \n",
    "    for epoch in range(EPOCHES):\n",
    "        total_loss = 0\n",
    "        train_correct = 0\n",
    "        # 计算epoch损失\n",
    "        for x_batch, y_batch in get_batch(x_train, y_train, BATCH_SIZE, True):\n",
    "            _, batch_loss,correct = sess.run([optimizer, loss, accuracy],\n",
    "                                     feed_dict={inputs: x_batch, targets: y_batch, prob: 0.5})\n",
    "            train_correct += correct\n",
    "            total_loss    += batch_loss\n",
    "            \n",
    "        # 在train上准确率\n",
    "#         train_correct = sess.run(accuracy, feed_dict={inputs: x_train, targets: y_train})\n",
    "        train_acc = train_correct / x_train.shape[0]\n",
    "        nn_train_accuracy.append(train_acc)\n",
    "        \n",
    "        # 在val上准确率\n",
    "        val_corrects = sess.run(accuracy, feed_dict={inputs: x_val, targets: y_val})\n",
    "        val_acc = val_corrects / x_val.shape[0]\n",
    "        nn_val_accuracy.append(val_acc)\n",
    "        \n",
    "        if best_val_accuracy < val_acc:\n",
    "            saver.save(sess, \"./checkpoints/cnn_best\")\n",
    "            writer.close()\n",
    "            best_val_accuracy = val_acc\n",
    "\n",
    "            \n",
    "        if (epoch + 1) % 10 == 0:\n",
    "            print(\"Epoch: {}, Train loss: {:.4f}, Train accuracy: {:.4f}, Val accuracy: {:.4f}\".format(epoch + 1, \n",
    "                                                                                                    total_loss/n_batches,\n",
    "                                                                                                    train_acc,\n",
    "                                                                                                    val_acc))"
   ]
  }
 ],
 "metadata": {
  "kernelspec": {
   "display_name": "Python 3",
   "language": "python",
   "name": "python3"
  },
  "language_info": {
   "codemirror_mode": {
    "name": "ipython",
    "version": 3
   },
   "file_extension": ".py",
   "mimetype": "text/x-python",
   "name": "python",
   "nbconvert_exporter": "python",
   "pygments_lexer": "ipython3",
   "version": "3.6.5"
  },
  "toc": {
   "base_numbering": 1,
   "nav_menu": {},
   "number_sections": true,
   "sideBar": true,
   "skip_h1_title": false,
   "title_cell": "Table of Contents",
   "title_sidebar": "Contents",
   "toc_cell": false,
   "toc_position": {
    "height": "calc(100% - 180px)",
    "left": "10px",
    "top": "150px",
    "width": "290px"
   },
   "toc_section_display": true,
   "toc_window_display": true
  }
 },
 "nbformat": 4,
 "nbformat_minor": 2
}
