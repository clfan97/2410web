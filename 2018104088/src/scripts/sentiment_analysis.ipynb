{
 "cells": [
  {
   "cell_type": "code",
   "execution_count": 1,
   "metadata": {
    "collapsed": true
   },
   "outputs": [],
   "source": [
    "import warnings\n",
    "warnings.filterwarnings(\"ignore\")\n",
    "\n",
    "import numpy as np\n",
    "import pandas as pd\n",
    "import matplotlib.pyplot as plt\n",
    "import os\n",
    "import tensorflow as tf\n",
    "from collections import Counter\n",
    "import tqdm\n",
    "\n",
    "import os\n",
    "os.environ[\"CUDA_DEVICE_ORDER\"] = \"PCI_BUS_ID\"\n",
    "os.environ[\"CUDA_VISIBLE_DEVICES\"] = \"2\"\n",
    "\n",
    "%matplotlib inline"
   ]
  },
  {
   "cell_type": "markdown",
   "metadata": {},
   "source": [
    "# 数据处理"
   ]
  },
  {
   "cell_type": "markdown",
   "metadata": {},
   "source": [
    "## 数据加载"
   ]
  },
  {
   "cell_type": "code",
   "execution_count": 2,
   "metadata": {
    "collapsed": true
   },
   "outputs": [],
   "source": [
    "# 加载正负评论数据\n",
    "# pos数据\n",
    "with open(\"data/pos.txt\", \"r\") as f:\n",
    "    pos_text = f.read()\n",
    "\n",
    "# neg数据\n",
    "with open(\"data/neg.txt\", \"r\") as f:\n",
    "    neg_text = f.read()"
   ]
  },
  {
   "cell_type": "markdown",
   "metadata": {},
   "source": [
    "## 描述性统计"
   ]
  },
  {
   "cell_type": "code",
   "execution_count": 3,
   "metadata": {},
   "outputs": [],
   "source": [
    "from sklearn.feature_extraction.stop_words import ENGLISH_STOP_WORDS as stopwords\n",
    "from multiprocessing import Pool\n",
    "import spacy, string\n",
    "nlp = spacy.load('en')\n",
    "# 标点符号\n",
    "punctuations = string.punctuation\n",
    "def delete_non_ascii_num(txt):\n",
    "    return ''.join([i if ord(i) < 128 else '' for i in txt])\n",
    "\n",
    "def clean_core(doc):\n",
    "    doc = nlp(doc, disable=['parser', 'ner'])\n",
    "    tokens = [tok.lemma_.lower().strip() for tok in doc if tok.lemma_ != '-PRON-']\n",
    "    tokens = [tok for tok in tokens if tok not in stopwords and tok not in punctuations]\n",
    "    tokens = ' '.join(tokens)\n",
    "    tokens = delete_non_ascii_num(tokens)\n",
    "    return tokens\n",
    "\n",
    "def cleanup_text(docs, logging=False):\n",
    "    # 去除停用词\n",
    "    multiprocess_pool = Pool(64)\n",
    "    texts = multiprocess_pool.map(clean_core, docs)\n",
    "    return texts"
   ]
  },
  {
   "cell_type": "code",
   "execution_count": 4,
   "metadata": {},
   "outputs": [
    {
     "name": "stdout",
     "output_type": "stream",
     "text": [
      "-------------------- POSITIVE TEXT --------------------\n",
      "Total positive sentences: 5331\n",
      "The average length of positive sentences: 21.0921027949728\n",
      "The max length of positive sentences: 59\n",
      "The min length of positive sentences: 2\n",
      "Most common words in positive sentences: \n",
      "[('.', 6972), (',', 5268), ('the', 5051), ('a', 3830), ('and', 3548), ('of', 3311), ('to', 1969), ('is', 1707), ('in', 1338), ('that', 1262)]\n",
      "\n",
      "-------------------- NEGATIVE TEXT --------------------\n",
      "Total negative sentences: 5331\n",
      "The average length of negative sentences: 20.93884824610767\n",
      "The max length of negative sentences: 56\n",
      "The min length of negative sentences: 1\n",
      "Most common words in negative sentences: \n",
      "[('.', 7038), ('the', 5045), (',', 4769), ('a', 3451), ('of', 2750), ('and', 2647), ('to', 2264), ('is', 1660), ('in', 1290), ('that', 1208)]\n"
     ]
    }
   ],
   "source": [
    "# 积极文本统计\n",
    "print(\"-\" * 20 + \" POSITIVE TEXT \" + \"-\" * 20)\n",
    "# 分句\n",
    "pos_sentences = pos_text.lower().split(\"\\n\")\n",
    "print(\"Total positive sentences: {}\".format(len(pos_sentences)))\n",
    "print(\"The average length of positive sentences: {}\".format(np.mean([len(sentence.split()) for sentence in pos_sentences])))\n",
    "print(\"The max length of positive sentences: {}\".format(np.max([len(sentence.split()) for sentence in pos_sentences])))\n",
    "print(\"The min length of positive sentences: {}\".format(np.min([len(sentence.split()) for sentence in pos_sentences])))\n",
    "# 统计高频词\n",
    "c = Counter(pos_text.split()).most_common(10)\n",
    "print(\"Most common words in positive sentences: \\n{}\".format(c))\n",
    "\n",
    "# 校级文本统计\n",
    "print()\n",
    "print(\"-\" * 20 + \" NEGATIVE TEXT \" + \"-\" * 20)\n",
    "# 分句\n",
    "neg_sentences = neg_text.lower().split(\"\\n\")\n",
    "print(\"Total negative sentences: {}\".format(len(neg_sentences)))\n",
    "print(\"The average length of negative sentences: {}\".format(np.mean([len(sentence.split()) for sentence in neg_sentences])))\n",
    "print(\"The max length of negative sentences: {}\".format(np.max([len(sentence.split()) for sentence in neg_sentences])))\n",
    "print(\"The min length of negative sentences: {}\".format(np.min([len(sentence.split()) for sentence in neg_sentences])))\n",
    "# 统计高频词\n",
    "c = Counter(neg_text.split()).most_common(10)\n",
    "print(\"Most common words in negative sentences: \\n{}\".format(c))"
   ]
  },
  {
   "cell_type": "markdown",
   "metadata": {},
   "source": [
    "## 数据预处理\n",
    "\n",
    "- 构造词典Vocabulary\n",
    "- 构造映射表\n",
    "- 转换单词为tokens"
   ]
  },
  {
   "cell_type": "code",
   "execution_count": 5,
   "metadata": {
    "collapsed": true
   },
   "outputs": [],
   "source": [
    "# 句子最大长度\n",
    "SENTENCE_LIMIT_SIZE = 30"
   ]
  },
  {
   "cell_type": "markdown",
   "metadata": {},
   "source": [
    "### 构造词典\n",
    "\n",
    "我们要基于整个语料来构造我们的词典，由于文本中包含许多干扰词汇，例如仅出现过1次的这类单词。对于这类极其低频词汇，我们可以对其进行去除，一方面能加快模型执行效率，一方面也能减少特殊词带来的噪声。"
   ]
  },
  {
   "cell_type": "code",
   "execution_count": 6,
   "metadata": {
    "collapsed": true
   },
   "outputs": [],
   "source": [
    "# 合并pos和neg文本\n",
    "total_sentences = pos_sentences + neg_sentences\n",
    "total_sentences = cleanup_text(total_sentences)\n",
    "# 统计词汇\n",
    "c = Counter('\\n'.join(total_sentences).split())"
   ]
  },
  {
   "cell_type": "code",
   "execution_count": 7,
   "metadata": {},
   "outputs": [
    {
     "data": {
      "text/plain": [
       "[('claud', 1),\n",
       " ('segal', 1),\n",
       " ('enrapture', 1),\n",
       " ('inscrutable', 1),\n",
       " ('spiderman', 1)]"
      ]
     },
     "execution_count": 7,
     "metadata": {},
     "output_type": "execute_result"
    }
   ],
   "source": [
    "# 倒序查看词频\n",
    "sorted(c.most_common(), key=lambda x: x[1])[:5]\n",
    "# print(*pos_sentences[:10], sep='\\n')"
   ]
  },
  {
   "cell_type": "code",
   "execution_count": 8,
   "metadata": {
    "collapsed": true
   },
   "outputs": [],
   "source": [
    "# 初始化两个token：pad和unk\n",
    "vocab = [\"<pad>\", \"<unk>\"]\n",
    "\n",
    "# 去除出现频次为1次的单词\n",
    "for w, f in c.most_common():\n",
    "    if f > 1:\n",
    "        vocab.append(w)"
   ]
  },
  {
   "cell_type": "code",
   "execution_count": 9,
   "metadata": {},
   "outputs": [
    {
     "name": "stdout",
     "output_type": "stream",
     "text": [
      "The total size of our vocabulary is: 8336\n"
     ]
    }
   ],
   "source": [
    "print(\"The total size of our vocabulary is: {}\".format(len(vocab)))"
   ]
  },
  {
   "cell_type": "markdown",
   "metadata": {},
   "source": [
    "### 构造映射"
   ]
  },
  {
   "cell_type": "code",
   "execution_count": 10,
   "metadata": {
    "collapsed": true
   },
   "outputs": [],
   "source": [
    "# 单词到编码的映射，例如machine -> 10283\n",
    "word_to_token = {word: token for token, word in enumerate(vocab)}\n",
    "# 编码到单词的映射，例如10283 -> machine\n",
    "token_to_word = {token: word for word, token in word_to_token.items()}"
   ]
  },
  {
   "cell_type": "markdown",
   "metadata": {},
   "source": [
    "### 转换文本"
   ]
  },
  {
   "cell_type": "code",
   "execution_count": 113,
   "metadata": {
    "collapsed": true
   },
   "outputs": [],
   "source": [
    "def convert_text_to_token(sentence, word_to_token_map=word_to_token, limit_size=SENTENCE_LIMIT_SIZE):\n",
    "    \"\"\"\n",
    "    根据单词-编码映射表将单个句子转化为token\n",
    "    \n",
    "    @param sentence: 句子，str类型\n",
    "    @param word_to_token_map: 单词到编码的映射\n",
    "    @param limit_size: 句子最大长度。超过该长度的句子进行截断，不足的句子进行pad补全\n",
    "    \n",
    "    return: 句子转换为token后的列表\n",
    "    \"\"\"\n",
    "    # 获取unknown单词和pad的token\n",
    "    unk_id = word_to_token_map[\"<unk>\"]\n",
    "    pad_id = word_to_token_map[\"<pad>\"]\n",
    "    \n",
    "    # 对句子进行token转换，对于未在词典中出现过的词用unk的token填充\n",
    "    tokens = [word_to_token_map.get(word, unk_id) for word in sentence.split()]\n",
    "    tokens_size = len(tokens)\n",
    "    # Pad\n",
    "    if len(tokens) < limit_size:\n",
    "        tokens.extend([0] * (limit_size - len(tokens)))\n",
    "    # Trunc\n",
    "    else:\n",
    "        tokens = tokens[:limit_size]\n",
    "    \n",
    "    return tokens,tokens_size"
   ]
  },
  {
   "cell_type": "code",
   "execution_count": 114,
   "metadata": {},
   "outputs": [
    {
     "name": "stdout",
     "output_type": "stream",
     "text": [
      "cleaning...\n"
     ]
    },
    {
     "name": "stderr",
     "output_type": "stream",
     "text": [
      "100%|██████████| 5331/5331 [00:00<00:00, 99959.92it/s]"
     ]
    },
    {
     "name": "stdout",
     "output_type": "stream",
     "text": [
      "converting pos to token...\n",
      "cleaning...\n"
     ]
    },
    {
     "name": "stderr",
     "output_type": "stream",
     "text": [
      "\n",
      "100%|██████████| 5331/5331 [00:00<00:00, 148068.57it/s]"
     ]
    },
    {
     "name": "stdout",
     "output_type": "stream",
     "text": [
      "converting neg to token...\n"
     ]
    },
    {
     "name": "stderr",
     "output_type": "stream",
     "text": [
      "\n"
     ]
    }
   ],
   "source": [
    "# 对pos文本处理\n",
    "pos_tokens = []\n",
    "pos_lens   = []\n",
    "clean_sentence = []\n",
    "\n",
    "print('cleaning...')\n",
    "clean_sentence = cleanup_text(pos_sentences)\n",
    "\n",
    "print('converting pos to token...')\n",
    "for sentence in tqdm.tqdm(clean_sentence):\n",
    "    tokens,size = convert_text_to_token(sentence)\n",
    "    pos_tokens.append(tokens)\n",
    "    pos_lens.append(size)\n",
    "\n",
    "# 对neg文本处理\n",
    "neg_tokens = []\n",
    "neg_lens   = []\n",
    "clean_sentence = []\n",
    "\n",
    "print('cleaning...')\n",
    "clean_sentence = cleanup_text(neg_sentences)\n",
    "\n",
    "print('converting neg to token...')\n",
    "for sentence in tqdm.tqdm(clean_sentence):\n",
    "    tokens,size = convert_text_to_token(sentence)\n",
    "    neg_tokens.append(tokens)\n",
    "    neg_lens.append(size)"
   ]
  },
  {
   "cell_type": "code",
   "execution_count": 115,
   "metadata": {
    "collapsed": true
   },
   "outputs": [
    {
     "name": "stdout",
     "output_type": "stream",
     "text": [
      "(5331, 30)\n",
      "(5331,)\n",
      "(5331, 30)\n",
      "(5331,)\n",
      "(10662, 1)\n"
     ]
    }
   ],
   "source": [
    "# 转化为numpy格式，方便处理\n",
    "pos_tokens = np.array(pos_tokens)\n",
    "neg_tokens = np.array(neg_tokens)\n",
    "# 合并所有语料\n",
    "total_tokens = np.concatenate((pos_tokens, neg_tokens), axis=0)\n",
    "total_lens   = np.concatenate((pos_lens, neg_lens), axis=0)\n",
    "total_lens[total_lens > SENTENCE_LIMIT_SIZE] = SENTENCE_LIMIT_SIZE\n",
    "\n",
    "# 转化为numpy格式，方便处理\n",
    "print(pos_tokens.shape)\n",
    "pos_targets = np.ones((pos_tokens.shape[0]))\n",
    "print(pos_targets.shape)\n",
    "\n",
    "print(neg_tokens.shape)\n",
    "neg_targets = np.zeros((neg_tokens.shape[0]))\n",
    "# 合并所有target\n",
    "print(neg_targets.shape)\n",
    "total_targets = np.concatenate((pos_targets, neg_targets), axis=0).reshape(-1, 1)\n",
    "print(total_targets.shape)\n"
   ]
  },
  {
   "cell_type": "markdown",
   "metadata": {},
   "source": [
    "## 构造词向量\n",
    "\n",
    "我们使用glove预训练好的词向量来做embedding:\n",
    "\n",
    "- 如果当前词没有对应词向量，则用随机数产生的向量替代\n",
    "- 如果当前词为< PAD >，则用0向量代替"
   ]
  },
  {
   "cell_type": "markdown",
   "metadata": {},
   "source": [
    "### 加载glove预训练词向量"
   ]
  },
  {
   "cell_type": "code",
   "execution_count": 14,
   "metadata": {
    "collapsed": true
   },
   "outputs": [],
   "source": [
    "# 加载预训练好的glove词向量\n",
    "with open(\"data/glove.6B.300d.txt\", 'r') as f:\n",
    "    words = set()\n",
    "    word_to_vec = {}\n",
    "    for line in f:\n",
    "        line = line.strip().split()\n",
    "        # 当前单词\n",
    "        curr_word = line[0]\n",
    "        words.add(curr_word)\n",
    "        # 当前词向量\n",
    "        word_to_vec[curr_word] = np.array(line[1:], dtype=np.float32)"
   ]
  },
  {
   "cell_type": "code",
   "execution_count": 15,
   "metadata": {},
   "outputs": [
    {
     "name": "stdout",
     "output_type": "stream",
     "text": [
      "The number of words which have pretrained-vectors in vocab is: 8205\n",
      "\n",
      "The number of words which do not have pretrained-vectors in vocab is : 131\n"
     ]
    }
   ],
   "source": [
    "print(\"The number of words which have pretrained-vectors in vocab is: {}\".format(len(set(vocab)&set(words))))\n",
    "print()\n",
    "print(\"The number of words which do not have pretrained-vectors in vocab is : {}\".format(len(set(vocab))-\n",
    "                                                                                         len(set(vocab)&set(words))))"
   ]
  },
  {
   "cell_type": "markdown",
   "metadata": {},
   "source": [
    "### 构造词向量矩阵"
   ]
  },
  {
   "cell_type": "code",
   "execution_count": 16,
   "metadata": {
    "collapsed": true
   },
   "outputs": [],
   "source": [
    "VOCAB_SIZE = len(vocab)  # 9801\n",
    "EMBEDDING_SIZE = 300"
   ]
  },
  {
   "cell_type": "code",
   "execution_count": 17,
   "metadata": {},
   "outputs": [
    {
     "name": "stderr",
     "output_type": "stream",
     "text": [
      "100%|██████████| 8336/8336 [00:00<00:00, 64499.90it/s]\n"
     ]
    }
   ],
   "source": [
    "# 初始化词向量矩阵（这里命名为static是因为这个词向量矩阵用预训练好的填充，无需重新训练）\n",
    "static_embeddings = np.zeros([VOCAB_SIZE, EMBEDDING_SIZE])\n",
    "\n",
    "for word, token in tqdm.tqdm(word_to_token.items()):\n",
    "    # 用glove词向量填充，如果没有对应的词向量，则用随机数填充\n",
    "    word_vector = word_to_vec.get(word, 0.2 * np.random.random(EMBEDDING_SIZE) - 0.1)\n",
    "    static_embeddings[token, :] = word_vector\n",
    "\n",
    "# 重置PAD为0向量\n",
    "pad_id = word_to_token[\"<pad>\"]\n",
    "static_embeddings[pad_id, :] = np.zeros(EMBEDDING_SIZE)"
   ]
  },
  {
   "cell_type": "code",
   "execution_count": 18,
   "metadata": {
    "collapsed": true
   },
   "outputs": [],
   "source": [
    "static_embeddings = static_embeddings.astype(np.float32)"
   ]
  },
  {
   "cell_type": "markdown",
   "metadata": {},
   "source": [
    "## 辅助函数"
   ]
  },
  {
   "cell_type": "markdown",
   "metadata": {},
   "source": [
    "### 分割train和test"
   ]
  },
  {
   "cell_type": "code",
   "execution_count": 116,
   "metadata": {
    "collapsed": true,
    "scrolled": true
   },
   "outputs": [
    {
     "name": "stdout",
     "output_type": "stream",
     "text": [
      "2133 2133\n"
     ]
    }
   ],
   "source": [
    "from sklearn.model_selection import train_test_split\n",
    "split_x = np.arange(total_tokens.shape[0])\n",
    "\n",
    "xid_train, xid_test, y_train, y_test = train_test_split(split_x, total_targets, \n",
    "                                                        test_size=0.2, random_state=0,\n",
    "                                                       shuffle=True, stratify=total_targets)\n",
    "\n",
    "print(len(xid_test), len(y_test))\n",
    "xid_test, xid_val, y_test, y_val = train_test_split(xid_test, y_test, \n",
    "                                                        test_size=0.5, random_state=0,\n",
    "                                                       shuffle=True, stratify=y_test)\n",
    "\n",
    "x_train, x_train_len = total_tokens[xid_train], total_lens[xid_train]\n",
    "x_val  , x_val_len   = total_tokens[xid_val],   total_lens[xid_val]\n",
    "x_test , x_test_len  = total_tokens[xid_test],  total_lens[xid_test]"
   ]
  },
  {
   "cell_type": "markdown",
   "metadata": {},
   "source": [
    "## 混淆矩阵"
   ]
  },
  {
   "cell_type": "code",
   "execution_count": 117,
   "metadata": {},
   "outputs": [],
   "source": [
    "from sklearn.metrics import confusion_matrix\n",
    "import seaborn as sns\n",
    "from sklearn.metrics import confusion_matrix\n",
    "import matplotlib.pyplot as plt\n",
    "\n",
    "def draw_confusion_matrix(y_true, y_pred):\n",
    "    labels = list(set(y_true))\n",
    "    conf_mat = confusion_matrix(y_true, y_pred, labels = labels) / len(y_true)\n",
    "    sns.heatmap(conf_mat,annot=True,cmap=\"Blues\")"
   ]
  },
  {
   "cell_type": "markdown",
   "metadata": {},
   "source": [
    "### get_batch函数"
   ]
  },
  {
   "cell_type": "code",
   "execution_count": 118,
   "metadata": {
    "collapsed": true
   },
   "outputs": [],
   "source": [
    "np.random.seed(0)\n",
    "def get_batch(x, y, batch_size=256, shuffle=True):\n",
    "    assert x.shape[0] == y.shape[0], print(\"error shape!\")\n",
    "    # shuffle\n",
    "    if shuffle:\n",
    "        shuffled_index = np.random.permutation(range(x.shape[0]))\n",
    "\n",
    "        x = x[shuffled_index]\n",
    "        y = y[shuffled_index]\n",
    "    \n",
    "    # 统计共几个完整的batch\n",
    "    n_batches = int(x.shape[0] / batch_size)\n",
    "    \n",
    "    for i in range(n_batches - 1):\n",
    "        x_batch = x[i*batch_size: (i+1)*batch_size]\n",
    "        y_batch = y[i*batch_size: (i+1)*batch_size]\n",
    "    \n",
    "        yield x_batch, y_batch\n",
    "\n",
    "def get_batch_lens(x, y, lens, batch_size=256, shuffle=True):\n",
    "    assert x.shape[0] == y.shape[0], print(\"error shape!\")\n",
    "    # shuffle\n",
    "    if shuffle:\n",
    "        shuffled_index = np.random.permutation(range(x.shape[0]))\n",
    "\n",
    "        x = x[shuffled_index]\n",
    "        y = y[shuffled_index]\n",
    "        l = lens[shuffled_index]\n",
    "    \n",
    "    # 统计共几个完整的batch\n",
    "    n_batches = int(x.shape[0] / batch_size)\n",
    "    \n",
    "    for i in range(n_batches - 1):\n",
    "        x_batch = x[i*batch_size: (i+1)*batch_size]\n",
    "        y_batch = y[i*batch_size: (i+1)*batch_size]\n",
    "        l_batch = lens[i*batch_size: (i+1)*batch_size]\n",
    "\n",
    "    \n",
    "        yield x_batch, y_batch, l_batch"
   ]
  },
  {
   "cell_type": "markdown",
   "metadata": {},
   "source": [
    "# DNN模型"
   ]
  },
  {
   "cell_type": "markdown",
   "metadata": {},
   "source": [
    "## 构建模型图\n",
    "\n",
    "<img src=\"images/dnn.png\" style=\"width:500;height:500px;\">"
   ]
  },
  {
   "cell_type": "code",
   "execution_count": 47,
   "metadata": {},
   "outputs": [],
   "source": [
    "# 清空图\n",
    "tf.reset_default_graph()\n",
    "\n",
    "# 定义神经网络超参数\n",
    "HIDDEN_SIZE   = 16\n",
    "LEARNING_RATE = 1e-3\n",
    "\n",
    "\n",
    "with tf.name_scope(\"dnn\"):\n",
    "    # 输入及输出tensor\n",
    "    with tf.name_scope(\"placeholders\"):\n",
    "        inputs = tf.placeholder(dtype=tf.int32, shape=(None, SENTENCE_LIMIT_SIZE), name=\"inputs\")\n",
    "        targets = tf.placeholder(dtype=tf.float32, shape=(None, 1), name=\"targets\")\n",
    "        prob = tf.placeholder_with_default(1.0, shape=())\n",
    "    \n",
    "    # embeddings\n",
    "    with tf.name_scope(\"embeddings\"):\n",
    "        # 用pre-trained词向量来作为embedding层\n",
    "        embedding_matrix = tf.Variable(initial_value=static_embeddings, trainable=False, name=\"embedding_matrix\")\n",
    "        embed = tf.nn.embedding_lookup(embedding_matrix, inputs, name=\"embed\")\n",
    "        \n",
    "        # 相加词向量得到句子向量\n",
    "        sum_embed = tf.reduce_sum(embed, axis=1, name=\"sum_embed\")\n",
    "        \n",
    "    # model\n",
    "    with tf.name_scope(\"model\"):\n",
    "\n",
    "        dense1 = tf.layers.dense(sum_embed, \n",
    "                                 units=HIDDEN_SIZE, \n",
    "                                 use_bias=True,\n",
    "                                 activation=tf.nn.relu,\n",
    "                                 name=\"dense1\")\n",
    "        \n",
    "        drop1 = tf.layers.dropout(dense1, rate=prob, seed=0,name=\"dropout1\")\n",
    "        \n",
    "        \n",
    "        dense2 = tf.layers.dense(drop1, \n",
    "                         units=1, \n",
    "                         use_bias=True,\n",
    "                         activation=None,\n",
    "                          name=\"outputs\")\n",
    "        \n",
    "        outputs = tf.nn.sigmoid(dense2)\n",
    "    \n",
    "    # loss\n",
    "    with tf.name_scope(\"loss\"):\n",
    "        loss = tf.reduce_mean(tf.nn.sigmoid_cross_entropy_with_logits(labels=targets, logits=dense2))\n",
    "    \n",
    "    # optimizer\n",
    "    with tf.name_scope(\"optimizer\"):\n",
    "        optimizer = tf.train.AdamOptimizer(LEARNING_RATE).minimize(loss)\n",
    "        \n",
    "    # evaluation\n",
    "    with tf.name_scope(\"evaluation\"):\n",
    "        preds = tf.cast(tf.greater(outputs, 0.5), tf.float32)\n",
    "        correct_preds = tf.equal(preds, targets)\n",
    "        accuracy = tf.reduce_sum(tf.reduce_sum(tf.cast(correct_preds, tf.float32), axis=1))"
   ]
  },
  {
   "cell_type": "code",
   "execution_count": 48,
   "metadata": {},
   "outputs": [
    {
     "name": "stdout",
     "output_type": "stream",
     "text": [
      "[8529, 1067, 1066]\n"
     ]
    }
   ],
   "source": [
    "print([len(x) for x in [x_train, x_val, x_test]])"
   ]
  },
  {
   "cell_type": "markdown",
   "metadata": {},
   "source": [
    "## 训练模型"
   ]
  },
  {
   "cell_type": "code",
   "execution_count": 49,
   "metadata": {
    "scrolled": true
   },
   "outputs": [
    {
     "name": "stdout",
     "output_type": "stream",
     "text": [
      "Epoch: 10, Train loss: 0.4561, Train accuracy: 0.7629, Val accuracy: 0.7385\n",
      "Epoch: 20, Train loss: 0.3955, Train accuracy: 0.8010, Val accuracy: 0.7423\n",
      "Epoch: 30, Train loss: 0.3412, Train accuracy: 0.8298, Val accuracy: 0.7179\n",
      "Epoch: 40, Train loss: 0.2988, Train accuracy: 0.8510, Val accuracy: 0.7067\n",
      "Epoch: 50, Train loss: 0.2682, Train accuracy: 0.8669, Val accuracy: 0.6917\n",
      "Epoch: 60, Train loss: 0.2423, Train accuracy: 0.8784, Val accuracy: 0.6973\n",
      "Epoch: 70, Train loss: 0.2154, Train accuracy: 0.8945, Val accuracy: 0.7010\n",
      "Epoch: 80, Train loss: 0.1962, Train accuracy: 0.9047, Val accuracy: 0.6973\n",
      "Epoch: 90, Train loss: 0.1781, Train accuracy: 0.9077, Val accuracy: 0.6926\n",
      "Epoch: 100, Train loss: 0.1675, Train accuracy: 0.9127, Val accuracy: 0.6926\n"
     ]
    }
   ],
   "source": [
    "EPOCHES       = 100\n",
    "BATCH_SIZE    = 128\n",
    "# 存储准确率\n",
    "nn_train_accuracy = []\n",
    "nn_val_accuracy = []\n",
    "saver = tf.train.Saver()\n",
    "\n",
    "best_val_accuracy = 0\n",
    "with tf.Session() as sess:\n",
    "    sess.run(tf.global_variables_initializer())\n",
    "    \n",
    "    writer = tf.summary.FileWriter(\"./graphs/dnn\", tf.get_default_graph())\n",
    "    \n",
    "    n_batches = int(x_train.shape[0] / BATCH_SIZE)\n",
    "    \n",
    "    for epoch in range(EPOCHES):\n",
    "        total_loss = 0\n",
    "        train_correct = 0\n",
    "        # 计算epoch损失\n",
    "        for x_batch, y_batch in get_batch(x_train, y_train, BATCH_SIZE, True):\n",
    "            _, batch_loss,correct = sess.run([optimizer, loss, accuracy],\n",
    "                                     feed_dict={inputs: x_batch, \n",
    "                                                targets: y_batch, \n",
    "                                                prob: 0.5})\n",
    "            train_correct += correct\n",
    "            total_loss    += batch_loss\n",
    "            \n",
    "        # 在train上准确率\n",
    "#         train_correct = sess.run(accuracy, feed_dict={inputs: x_train, targets: y_train})\n",
    "        train_acc = train_correct / x_train.shape[0]\n",
    "        nn_train_accuracy.append(train_acc)\n",
    "        \n",
    "        # 在val上准确率\n",
    "        val_corrects = sess.run(accuracy, feed_dict={inputs: x_val, targets: y_val})\n",
    "        val_acc = val_corrects / x_val.shape[0]\n",
    "        nn_val_accuracy.append(val_acc)\n",
    "        \n",
    "        if best_val_accuracy < val_acc:\n",
    "            saver.save(sess, \"./checkpoints/dnn_best\")\n",
    "            writer.close()\n",
    "            best_val_accuracy = val_acc\n",
    "\n",
    "            \n",
    "        if (epoch + 1) % 10 == 0:\n",
    "            print(\"Epoch: {}, Train loss: {:.4f}, Train accuracy: {:.4f}, Val accuracy: {:.4f}\".format(epoch + 1, \n",
    "                                                                                                    total_loss/n_batches,\n",
    "                                                                                                    train_acc,\n",
    "                                                                                                    val_acc))"
   ]
  },
  {
   "cell_type": "code",
   "execution_count": 50,
   "metadata": {},
   "outputs": [
    {
     "name": "stdout",
     "output_type": "stream",
     "text": [
      "[best] epoch: 16, val-accuracy 0.7460\n",
      "INFO:tensorflow:Restoring parameters from checkpoints/dnn_best\n",
      "The dnn model accuracy on test set: 0.6961\n"
     ]
    },
    {
     "data": {
      "image/png": "[encoded data removed]",
      "text/plain": [
       "<Figure size 1080x360 with 3 Axes>"
      ]
     },
     "metadata": {},
     "output_type": "display_data"
    }
   ],
   "source": [
    "model_type = 'dnn'\n",
    "best_epoch = np.argmax(nn_val_accuracy)\n",
    "print(\"[best] epoch: {}, val-accuracy {:.4f}\".format(best_epoch, nn_val_accuracy[best_epoch]))\n",
    "\n",
    "plt.figure(figsize=(15,5))\n",
    "plt.subplot(1,2,1)\n",
    "plt.plot(nn_train_accuracy)\n",
    "plt.plot(nn_val_accuracy)\n",
    "plt.ylim(ymin=0.2, ymax=0.95)\n",
    "plt.title(\"The accuracy of {} model\".format(model_type))\n",
    "plt.legend([\"train\", \"val\"])\n",
    "\n",
    "plt.subplot(1,2,2)\n",
    "# 在test上的准确率\n",
    "with tf.Session() as sess:\n",
    "    saver.restore(sess, \"checkpoints/{}_best\".format(model_type))\n",
    "    acc_v,preds_v = sess.run([accuracy, preds],\n",
    "                    feed_dict={ inputs: x_test, \n",
    "                                targets: y_test})\n",
    "    draw_confusion_matrix(y_test.squeeze().tolist(), preds_v.squeeze().tolist())\n",
    "    print(\"The {} model accuracy on test set: {:.4f}\".format(model_type, acc_v / x_test.shape[0]))\n",
    "\n",
    "plt.savefig('dnn_1.png',dpi=400,pad_inches=0.0,bbox_inches='tight')"
   ]
  },
  {
   "cell_type": "markdown",
   "metadata": {},
   "source": [
    "在命令行执行tensorboard --logdir=\"./graphs/dnn\" --port 6006可以看到模型的tensorboard\n",
    "\n",
    "<img src=\"images/dnn-tensorboard.png\" style=\"width:500;height:500px;\">"
   ]
  },
  {
   "cell_type": "markdown",
   "metadata": {},
   "source": [
    "# RNN模型"
   ]
  },
  {
   "cell_type": "markdown",
   "metadata": {},
   "source": [
    "## 构建模型图"
   ]
  },
  {
   "cell_type": "code",
   "execution_count": 119,
   "metadata": {
    "collapsed": true
   },
   "outputs": [],
   "source": [
    "# 清空图\n",
    "tf.reset_default_graph()\n",
    "\n",
    "# 定义网络超参数\n",
    "HIDDEN_SIZE = 8\n",
    "LEARNING_RATE = 1e-3\n",
    "KEEP_PROB = 0.5\n",
    "\n",
    "\n",
    "with tf.name_scope(\"rnn\"):\n",
    "    # placeholders\n",
    "    with tf.name_scope(\"placeholders\"):\n",
    "        inputs     = tf.placeholder(dtype=tf.int32, shape=(None, SENTENCE_LIMIT_SIZE), name=\"inputs\")\n",
    "        input_lens = tf.placeholder(dtype=tf.int32, shape=(None, ), name=\"inputs_lens\")\n",
    "\n",
    "        targets = tf.placeholder(dtype=tf.float32, shape=(None, 1), name=\"targets\")\n",
    "        prob = tf.placeholder_with_default(1.0, shape=())\n",
    "    \n",
    "    # embeddings\n",
    "    with tf.name_scope(\"embeddings\"):\n",
    "        embedding_matrix = tf.Variable(initial_value=static_embeddings, trainable=False, name=\"embedding_matrix\")\n",
    "        embed = tf.nn.embedding_lookup(embedding_matrix, inputs, name=\"embed\")\n",
    "    \n",
    "    # model\n",
    "    with tf.name_scope(\"model\"):\n",
    "        # 构造lstm单元\n",
    "        lstm = tf.contrib.rnn.LSTMCell(HIDDEN_SIZE, initializer=tf.random_uniform_initializer(-0.1, 0.1, seed=123))\n",
    "        # 添加dropout\n",
    "        drop_lstm = tf.contrib.rnn.DropoutWrapper(lstm, output_keep_prob=prob, seed=2)\n",
    "        _, lstm_state = tf.nn.dynamic_rnn(drop_lstm, embed, dtype=tf.float32, sequence_length=input_lens)\n",
    "        \n",
    "        outputs = tf.layers.dense(lstm_state.h, \n",
    "                         units=1, \n",
    "                         use_bias=True,\n",
    "                         activation=None)\n",
    "        \n",
    "        loss = tf.reduce_mean(tf.nn.sigmoid_cross_entropy_with_logits(labels=targets, logits=outputs))\n",
    "    \n",
    "    # optimizer\n",
    "    with tf.name_scope(\"optimizer\"):\n",
    "        optimizer = tf.train.AdamOptimizer(LEARNING_RATE).minimize(loss)\n",
    "    \n",
    "    # evaluation\n",
    "    with tf.name_scope(\"evaluation\"):\n",
    "        preds = tf.cast(tf.greater(outputs, 0.5), tf.float32)\n",
    "        correct_preds = tf.equal(preds, targets)\n",
    "        accuracy = tf.reduce_sum(tf.reduce_sum(tf.cast(correct_preds, tf.float32), axis=1))"
   ]
  },
  {
   "cell_type": "markdown",
   "metadata": {},
   "source": [
    "## 训练模型"
   ]
  },
  {
   "cell_type": "code",
   "execution_count": 120,
   "metadata": {
    "scrolled": true
   },
   "outputs": [
    {
     "name": "stdout",
     "output_type": "stream",
     "text": [
      "Epoch: 10, Train loss: 0.4792, Train accuracy: 0.7377, Val accuracy: 0.7320\n",
      "Epoch: 20, Train loss: 0.4016, Train accuracy: 0.7900, Val accuracy: 0.7376\n",
      "Epoch: 30, Train loss: 0.3402, Train accuracy: 0.8273, Val accuracy: 0.7301\n",
      "Epoch: 40, Train loss: 0.2895, Train accuracy: 0.8558, Val accuracy: 0.7254\n",
      "Epoch: 50, Train loss: 0.2699, Train accuracy: 0.8649, Val accuracy: 0.7291\n",
      "Epoch: 60, Train loss: 0.2373, Train accuracy: 0.8819, Val accuracy: 0.7320\n",
      "Epoch: 70, Train loss: 0.2168, Train accuracy: 0.8951, Val accuracy: 0.7235\n",
      "Epoch: 80, Train loss: 0.2069, Train accuracy: 0.8981, Val accuracy: 0.7170\n",
      "Epoch: 90, Train loss: 0.2237, Train accuracy: 0.8898, Val accuracy: 0.6917\n",
      "Epoch: 100, Train loss: 0.1688, Train accuracy: 0.9171, Val accuracy: 0.7160\n"
     ]
    }
   ],
   "source": [
    "EPOCHES = 100\n",
    "BATCH_SIZE = 128\n",
    "# 存储准确率\n",
    "nn_train_accuracy = []\n",
    "nn_val_accuracy = []\n",
    "saver = tf.train.Saver()\n",
    "\n",
    "best_val_accuracy = 0\n",
    "with tf.Session() as sess:\n",
    "    sess.run(tf.global_variables_initializer())\n",
    "    \n",
    "    writer = tf.summary.FileWriter(\"./graphs/rnn\", tf.get_default_graph())\n",
    "    \n",
    "    n_batches = int(x_train.shape[0] / BATCH_SIZE)\n",
    "    \n",
    "    for epoch in range(EPOCHES):\n",
    "        total_loss = 0\n",
    "        train_correct = 0\n",
    "        # 计算epoch损失\n",
    "        for x_batch, y_batch, l_batch in get_batch_lens(x_train, y_train, x_train_len, BATCH_SIZE, True):\n",
    "            _, batch_loss,correct = sess.run([optimizer, loss, accuracy],\n",
    "                                     feed_dict={inputs: x_batch, \n",
    "                                                targets: y_batch, \n",
    "                                                input_lens: l_batch,\n",
    "                                                prob: 0.5})\n",
    "            train_correct += correct\n",
    "            total_loss    += batch_loss\n",
    "            \n",
    "        # 在train上准确率\n",
    "#         train_correct = sess.run(accuracy, feed_dict={inputs: x_train, targets: y_train})\n",
    "        train_acc = train_correct / x_train.shape[0]\n",
    "        nn_train_accuracy.append(train_acc)\n",
    "        \n",
    "        # 在val上准确率\n",
    "        val_corrects = sess.run(accuracy, feed_dict={inputs: x_val, targets: y_val, input_lens: x_val_len})\n",
    "        val_acc = val_corrects / x_val.shape[0]\n",
    "        nn_val_accuracy.append(val_acc)\n",
    "        \n",
    "        if best_val_accuracy < val_acc:\n",
    "            saver.save(sess, \"./checkpoints/rnn_best\")\n",
    "            writer.close()\n",
    "            best_val_accuracy = val_acc\n",
    "\n",
    "            \n",
    "        if (epoch + 1) % 10 == 0:\n",
    "            print(\"Epoch: {}, Train loss: {:.4f}, Train accuracy: {:.4f}, Val accuracy: {:.4f}\".format(epoch + 1, \n",
    "                                                                                                    total_loss/n_batches,\n",
    "                                                                                                    train_acc,\n",
    "                                                                                                    val_acc))"
   ]
  },
  {
   "cell_type": "code",
   "execution_count": 121,
   "metadata": {},
   "outputs": [
    {
     "name": "stdout",
     "output_type": "stream",
     "text": [
      "[best] epoch: 12, val-accuracy 0.7432\n",
      "INFO:tensorflow:Restoring parameters from checkpoints/rnn_best\n",
      "The rnn model accuracy on test set: 0.7308\n"
     ]
    },
    {
     "data": {
      "image/png": "[encoded data removed]",
      "text/plain": [
       "<Figure size 1080x360 with 3 Axes>"
      ]
     },
     "metadata": {},
     "output_type": "display_data"
    }
   ],
   "source": [
    "model_type = 'rnn'\n",
    "best_epoch = np.argmax(nn_val_accuracy)\n",
    "print(\"[best] epoch: {}, val-accuracy {:.4f}\".format(best_epoch, nn_val_accuracy[best_epoch]))\n",
    "\n",
    "plt.figure(figsize=(15,5))\n",
    "plt.subplot(1,2,1)\n",
    "plt.plot(nn_train_accuracy)\n",
    "plt.plot(nn_val_accuracy)\n",
    "plt.ylim(ymin=0.4, ymax=0.95)\n",
    "plt.title(\"The accuracy of {} model\".format(model_type))\n",
    "plt.legend([\"train\", \"val\"])\n",
    "\n",
    "plt.subplot(1,2,2)\n",
    "# 在test上的准确率\n",
    "with tf.Session() as sess:\n",
    "    saver.restore(sess, \"checkpoints/{}_best\".format(model_type))\n",
    "    acc_v,preds_v = sess.run([accuracy, preds],\n",
    "                    feed_dict={ inputs: x_test, \n",
    "                                targets: y_test,\n",
    "                                 input_lens: x_test_len})\n",
    "    draw_confusion_matrix(y_test.squeeze().tolist(), preds_v.squeeze().tolist())\n",
    "    print(\"The {} model accuracy on test set: {:.4f}\".format(model_type, acc_v / x_test.shape[0]))\n",
    "\n",
    "plt.savefig('rnn_test1.png',dpi=400,pad_inches=0.0,bbox_inches='tight')"
   ]
  },
  {
   "cell_type": "markdown",
   "metadata": {},
   "source": [
    "# CNN模型"
   ]
  },
  {
   "cell_type": "markdown",
   "metadata": {},
   "source": [
    "## 构建模型图"
   ]
  },
  {
   "cell_type": "code",
   "execution_count": 105,
   "metadata": {
    "collapsed": true
   },
   "outputs": [],
   "source": [
    "# 清空图\n",
    "tf.reset_default_graph()\n",
    "\n",
    "# 我在这里定义了e种filter，每种100个\n",
    "filters_size = [3, 4, 5]\n",
    "num_filters = 100\n",
    "# 超参数\n",
    "LEARNING_RATE = 1e-3\n",
    "L2_LAMBDA     = 3\n",
    "KEEP_PROB     = 0.5\n",
    "\n",
    "with tf.name_scope(\"cnn\"):\n",
    "    with tf.name_scope(\"placeholders\"):\n",
    "        inputs = tf.placeholder(dtype=tf.int32, shape=(None, 30), name=\"inputs\")\n",
    "        targets = tf.placeholder(dtype=tf.float32, shape=(None, 1), name=\"targets\")\n",
    "        prob = tf.placeholder_with_default(1.0, shape=())\n",
    "    \n",
    "    # embeddings\n",
    "    with tf.name_scope(\"embeddings\"):\n",
    "        embedding_matrix = tf.Variable(initial_value=static_embeddings, trainable=False, name=\"embedding_matrix\")\n",
    "        embed = tf.nn.embedding_lookup(embedding_matrix, inputs, name=\"embed\")\n",
    "        # 添加channel维度\n",
    "        embed_expanded = tf.expand_dims(embed, -1, name=\"embed_expand\")\n",
    "    \n",
    "    # 用来存储max-pooling的结果\n",
    "    pooled_outputs = []\n",
    "\n",
    "    # 迭代多个filter\n",
    "    for i, filter_size in enumerate(filters_size):\n",
    "        with tf.name_scope(\"conv_maxpool_%s\" % filter_size):\n",
    "            filter_shape = [filter_size, EMBEDDING_SIZE, 1, num_filters]\n",
    "            W = tf.Variable(tf.truncated_normal(filter_shape, mean=0.0, stddev=0.1), name=\"W\")\n",
    "            b = tf.Variable(tf.zeros(num_filters), name=\"b\")\n",
    "\n",
    "            conv = tf.nn.conv2d(input=embed_expanded, \n",
    "                                 filter=W, \n",
    "                                 strides=[1, 1, 1, 1], \n",
    "                                 padding=\"VALID\",\n",
    "                                 name=\"conv\")\n",
    "\n",
    "            # 激活\n",
    "            a = tf.nn.relu(tf.nn.bias_add(conv, b), name=\"activations\")\n",
    "            # 池化\n",
    "            max_pooling = tf.nn.max_pool(value=a, \n",
    "                                    ksize=[1, SENTENCE_LIMIT_SIZE - filter_size + 1, 1, 1],\n",
    "                                    strides=[1, 1, 1, 1],\n",
    "                                    padding=\"VALID\",\n",
    "                                    name=\"max_pooling\")\n",
    "            pooled_outputs.append(max_pooling)\n",
    "    \n",
    "    # 统计所有的filter\n",
    "    total_filters = num_filters * len(filters_size)\n",
    "    total_pool = tf.concat(pooled_outputs, 3)\n",
    "    flattend_pool = tf.reshape(total_pool, (-1, total_filters))\n",
    "    \n",
    "    # dropout\n",
    "    with tf.name_scope(\"dropout\"):\n",
    "        dropout = tf.nn.dropout(flattend_pool, prob, seed=2)\n",
    "    \n",
    "    # output\n",
    "    with tf.name_scope(\"output\"):\n",
    "        W = tf.get_variable(\"W\", shape=(total_filters, 1), initializer=tf.contrib.layers.xavier_initializer())\n",
    "        b = tf.Variable(tf.zeros(1), name=\"b\")\n",
    "        \n",
    "        logits = tf.add(tf.matmul(dropout, W), b)\n",
    "        predictions = tf.nn.sigmoid(logits, name=\"predictions\")\n",
    "    \n",
    "    # loss\n",
    "    with tf.name_scope(\"loss\"):\n",
    "        loss = tf.reduce_mean(tf.nn.sigmoid_cross_entropy_with_logits(labels=targets, logits=logits))\n",
    "        loss = loss + L2_LAMBDA * tf.nn.l2_loss(W)\n",
    "        optimizer = tf.train.AdamOptimizer(LEARNING_RATE).minimize(loss)\n",
    "    \n",
    "    # evaluation\n",
    "    with tf.name_scope(\"evaluation\"):\n",
    "        preds = tf.cast(tf.greater(predictions, 0.5), tf.float32)\n",
    "        correct_preds = tf.equal(preds, targets)\n",
    "        accuracy = tf.reduce_sum(tf.reduce_sum(tf.cast(correct_preds, tf.float32), axis=1))"
   ]
  },
  {
   "cell_type": "markdown",
   "metadata": {},
   "source": [
    "## 训练模型"
   ]
  },
  {
   "cell_type": "code",
   "execution_count": 106,
   "metadata": {},
   "outputs": [
    {
     "name": "stdout",
     "output_type": "stream",
     "text": [
      "Epoch: 10, Train loss: 0.5028, Train accuracy: 0.7788, Val accuracy: 0.7441\n",
      "Epoch: 20, Train loss: 0.4396, Train accuracy: 0.8231, Val accuracy: 0.7507\n",
      "Epoch: 30, Train loss: 0.3833, Train accuracy: 0.8676, Val accuracy: 0.7554\n",
      "Epoch: 40, Train loss: 0.3436, Train accuracy: 0.8941, Val accuracy: 0.7479\n",
      "Epoch: 50, Train loss: 0.3081, Train accuracy: 0.9161, Val accuracy: 0.7573\n",
      "Epoch: 60, Train loss: 0.2773, Train accuracy: 0.9328, Val accuracy: 0.7432\n",
      "Epoch: 70, Train loss: 0.2499, Train accuracy: 0.9442, Val accuracy: 0.7591\n",
      "Epoch: 80, Train loss: 0.2292, Train accuracy: 0.9517, Val accuracy: 0.7413\n",
      "Epoch: 90, Train loss: 0.2085, Train accuracy: 0.9571, Val accuracy: 0.7404\n",
      "Epoch: 100, Train loss: 0.1967, Train accuracy: 0.9593, Val accuracy: 0.7413\n"
     ]
    }
   ],
   "source": [
    "EPOCHES = 100\n",
    "BATCH_SIZE = 128\n",
    "# 存储准确率\n",
    "nn_train_accuracy = []\n",
    "nn_val_accuracy = []\n",
    "saver = tf.train.Saver()\n",
    "\n",
    "best_val_accuracy = 0\n",
    "with tf.Session() as sess:\n",
    "    sess.run(tf.global_variables_initializer())\n",
    "    \n",
    "    writer = tf.summary.FileWriter(\"./graphs/cnn\", tf.get_default_graph())\n",
    "    \n",
    "    n_batches = int(x_train.shape[0] / BATCH_SIZE)\n",
    "    \n",
    "    for epoch in range(EPOCHES):\n",
    "        total_loss = 0\n",
    "        train_correct = 0\n",
    "        # 计算epoch损失\n",
    "        for x_batch, y_batch in get_batch(x_train, y_train, BATCH_SIZE, True):\n",
    "            _, batch_loss,correct = sess.run([optimizer, loss, accuracy],\n",
    "                                     feed_dict={inputs: x_batch, \n",
    "                                                targets: y_batch, \n",
    "                                                prob: 0.5})\n",
    "            train_correct += correct\n",
    "            total_loss    += batch_loss\n",
    "            \n",
    "        # 在train上准确率\n",
    "#         train_correct = sess.run(accuracy, feed_dict={inputs: x_train, targets: y_train})\n",
    "        train_acc = train_correct / x_train.shape[0]\n",
    "        nn_train_accuracy.append(train_acc)\n",
    "        \n",
    "        # 在val上准确率\n",
    "        val_corrects = sess.run(accuracy, feed_dict={inputs: x_val, targets: y_val})\n",
    "        val_acc = val_corrects / x_val.shape[0]\n",
    "        nn_val_accuracy.append(val_acc)\n",
    "        \n",
    "        if best_val_accuracy < val_acc:\n",
    "            saver.save(sess, \"./checkpoints/cnn_best\")\n",
    "            writer.close()\n",
    "            best_val_accuracy = val_acc\n",
    "\n",
    "            \n",
    "        if (epoch + 1) % 10 == 0:\n",
    "            print(\"Epoch: {}, Train loss: {:.4f}, Train accuracy: {:.4f}, Val accuracy: {:.4f}\".format(epoch + 1, \n",
    "                                                                                                    total_loss/n_batches,\n",
    "                                                                                                    train_acc,\n",
    "                                                                                                    val_acc))"
   ]
  },
  {
   "cell_type": "code",
   "execution_count": 108,
   "metadata": {},
   "outputs": [
    {
     "name": "stdout",
     "output_type": "stream",
     "text": [
      "[best] epoch: 63, val-accuracy 0.7648\n",
      "INFO:tensorflow:Restoring parameters from checkpoints/cnn_best\n",
      "The cnn model accuracy on test set: 0.7514\n"
     ]
    },
    {
     "data": {
      "image/png": "[encoded data removed]",
      "text/plain": [
       "<Figure size 1080x360 with 3 Axes>"
      ]
     },
     "metadata": {},
     "output_type": "display_data"
    }
   ],
   "source": [
    "model_type = 'cnn'\n",
    "best_epoch = np.argmax(nn_val_accuracy)\n",
    "print(\"[best] epoch: {}, val-accuracy {:.4f}\".format(best_epoch, nn_val_accuracy[best_epoch]))\n",
    "\n",
    "plt.figure(figsize=(15,5))\n",
    "plt.subplot(1,2,1)\n",
    "plt.plot(nn_train_accuracy)\n",
    "plt.plot(nn_val_accuracy)\n",
    "plt.ylim(ymin=0.5, ymax=1)\n",
    "plt.title(\"The accuracy of {} model\".format(model_type))\n",
    "plt.legend([\"train\", \"val\"])\n",
    "\n",
    "plt.subplot(1,2,2)\n",
    "# 在test上的准确率\n",
    "with tf.Session() as sess:\n",
    "    saver.restore(sess, \"checkpoints/{}_best\".format(model_type))\n",
    "    acc_v,preds_v = sess.run([accuracy, preds],\n",
    "                    feed_dict={ inputs: x_test, \n",
    "                                targets: y_test})\n",
    "    draw_confusion_matrix(y_test.squeeze().tolist(), preds_v.squeeze().tolist())\n",
    "    print(\"The {} model accuracy on test set: {:.4f}\".format(model_type, acc_v / x_test.shape[0]))\n",
    "\n",
    "plt.savefig('cnn_1.png',dpi=400,pad_inches=0.0,bbox_inches='tight')"
   ]
  },
  {
   "cell_type": "code",
   "execution_count": 247,
   "metadata": {},
   "outputs": [
    {
     "name": "stdout",
     "output_type": "stream",
     "text": [
      "8529 2133\n"
     ]
    }
   ],
   "source": [
    "print(len(x_train), len(x_test))"
   ]
  }
 ],
 "metadata": {
  "kernelspec": {
   "display_name": "Python 3",
   "language": "python",
   "name": "python3"
  },
  "language_info": {
   "codemirror_mode": {
    "name": "ipython",
    "version": 3
   },
   "file_extension": ".py",
   "mimetype": "text/x-python",
   "name": "python",
   "nbconvert_exporter": "python",
   "pygments_lexer": "ipython3",
   "version": "3.6.5"
  },
  "toc": {
   "base_numbering": 1,
   "nav_menu": {},
   "number_sections": true,
   "sideBar": true,
   "skip_h1_title": false,
   "title_cell": "Table of Contents",
   "title_sidebar": "Contents",
   "toc_cell": false,
   "toc_position": {
    "height": "calc(100% - 180px)",
    "left": "10px",
    "top": "150px",
    "width": "290px"
   },
   "toc_section_display": true,
   "toc_window_display": true
  }
 },
 "nbformat": 4,
 "nbformat_minor": 2
}
